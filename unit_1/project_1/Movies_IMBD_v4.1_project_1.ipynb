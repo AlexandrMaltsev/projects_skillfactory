{
 "cells": [
  {
   "cell_type": "code",
   "execution_count": 73,
   "metadata": {
    "_cell_guid": "b1076dfc-b9ad-4769-8c92-a6c4dae69d19",
    "_uuid": "8f2839f25d086af736a60e9eeb907d3b93b6e0e5",
    "colab": {},
    "colab_type": "code",
    "id": "U2D2gTdJVp90"
   },
   "outputs": [],
   "source": [
    "import numpy as np\n",
    "import pandas as pd\n",
    "import seaborn as sns\n",
    "import matplotlib.pyplot as plt\n",
    "from collections import Counter\n",
    "from itertools import *"
   ]
  },
  {
   "cell_type": "code",
   "execution_count": 74,
   "metadata": {
    "_cell_guid": "79c7e3d0-c299-4dcb-8224-4455121ee9b0",
    "_uuid": "d629ff2d2480ee46fbb7e2d37f6b5fab8052498a",
    "colab": {},
    "colab_type": "code",
    "id": "oyGfxL3eVp9-"
   },
   "outputs": [
    {
     "data": {
      "text/html": [
       "<div>\n",
       "<style scoped>\n",
       "    .dataframe tbody tr th:only-of-type {\n",
       "        vertical-align: middle;\n",
       "    }\n",
       "\n",
       "    .dataframe tbody tr th {\n",
       "        vertical-align: top;\n",
       "    }\n",
       "\n",
       "    .dataframe thead th {\n",
       "        text-align: right;\n",
       "    }\n",
       "</style>\n",
       "<table border=\"1\" class=\"dataframe\">\n",
       "  <thead>\n",
       "    <tr style=\"text-align: right;\">\n",
       "      <th></th>\n",
       "      <th>imdb_id</th>\n",
       "      <th>budget</th>\n",
       "      <th>revenue</th>\n",
       "      <th>original_title</th>\n",
       "      <th>cast</th>\n",
       "      <th>director</th>\n",
       "      <th>tagline</th>\n",
       "      <th>overview</th>\n",
       "      <th>runtime</th>\n",
       "      <th>genres</th>\n",
       "      <th>production_companies</th>\n",
       "      <th>release_date</th>\n",
       "      <th>vote_average</th>\n",
       "      <th>release_year</th>\n",
       "    </tr>\n",
       "  </thead>\n",
       "  <tbody>\n",
       "    <tr>\n",
       "      <th>0</th>\n",
       "      <td>tt0369610</td>\n",
       "      <td>150000000</td>\n",
       "      <td>1513528810</td>\n",
       "      <td>Jurassic World</td>\n",
       "      <td>Chris Pratt|Bryce Dallas Howard|Irrfan Khan|Vi...</td>\n",
       "      <td>Colin Trevorrow</td>\n",
       "      <td>The park is open.</td>\n",
       "      <td>Twenty-two years after the events of Jurassic ...</td>\n",
       "      <td>124</td>\n",
       "      <td>Action|Adventure|Science Fiction|Thriller</td>\n",
       "      <td>Universal Studios|Amblin Entertainment|Legenda...</td>\n",
       "      <td>6/9/2015</td>\n",
       "      <td>6.5</td>\n",
       "      <td>2015</td>\n",
       "    </tr>\n",
       "    <tr>\n",
       "      <th>1</th>\n",
       "      <td>tt1392190</td>\n",
       "      <td>150000000</td>\n",
       "      <td>378436354</td>\n",
       "      <td>Mad Max: Fury Road</td>\n",
       "      <td>Tom Hardy|Charlize Theron|Hugh Keays-Byrne|Nic...</td>\n",
       "      <td>George Miller</td>\n",
       "      <td>What a Lovely Day.</td>\n",
       "      <td>An apocalyptic story set in the furthest reach...</td>\n",
       "      <td>120</td>\n",
       "      <td>Action|Adventure|Science Fiction|Thriller</td>\n",
       "      <td>Village Roadshow Pictures|Kennedy Miller Produ...</td>\n",
       "      <td>5/13/2015</td>\n",
       "      <td>7.1</td>\n",
       "      <td>2015</td>\n",
       "    </tr>\n",
       "    <tr>\n",
       "      <th>2</th>\n",
       "      <td>tt2908446</td>\n",
       "      <td>110000000</td>\n",
       "      <td>295238201</td>\n",
       "      <td>Insurgent</td>\n",
       "      <td>Shailene Woodley|Theo James|Kate Winslet|Ansel...</td>\n",
       "      <td>Robert Schwentke</td>\n",
       "      <td>One Choice Can Destroy You</td>\n",
       "      <td>Beatrice Prior must confront her inner demons ...</td>\n",
       "      <td>119</td>\n",
       "      <td>Adventure|Science Fiction|Thriller</td>\n",
       "      <td>Summit Entertainment|Mandeville Films|Red Wago...</td>\n",
       "      <td>3/18/2015</td>\n",
       "      <td>6.3</td>\n",
       "      <td>2015</td>\n",
       "    </tr>\n",
       "    <tr>\n",
       "      <th>3</th>\n",
       "      <td>tt2488496</td>\n",
       "      <td>200000000</td>\n",
       "      <td>2068178225</td>\n",
       "      <td>Star Wars: The Force Awakens</td>\n",
       "      <td>Harrison Ford|Mark Hamill|Carrie Fisher|Adam D...</td>\n",
       "      <td>J.J. Abrams</td>\n",
       "      <td>Every generation has a story.</td>\n",
       "      <td>Thirty years after defeating the Galactic Empi...</td>\n",
       "      <td>136</td>\n",
       "      <td>Action|Adventure|Science Fiction|Fantasy</td>\n",
       "      <td>Lucasfilm|Truenorth Productions|Bad Robot</td>\n",
       "      <td>12/15/2015</td>\n",
       "      <td>7.5</td>\n",
       "      <td>2015</td>\n",
       "    </tr>\n",
       "    <tr>\n",
       "      <th>4</th>\n",
       "      <td>tt2820852</td>\n",
       "      <td>190000000</td>\n",
       "      <td>1506249360</td>\n",
       "      <td>Furious 7</td>\n",
       "      <td>Vin Diesel|Paul Walker|Jason Statham|Michelle ...</td>\n",
       "      <td>James Wan</td>\n",
       "      <td>Vengeance Hits Home</td>\n",
       "      <td>Deckard Shaw seeks revenge against Dominic Tor...</td>\n",
       "      <td>137</td>\n",
       "      <td>Action|Crime|Thriller</td>\n",
       "      <td>Universal Pictures|Original Film|Media Rights ...</td>\n",
       "      <td>4/1/2015</td>\n",
       "      <td>7.3</td>\n",
       "      <td>2015</td>\n",
       "    </tr>\n",
       "  </tbody>\n",
       "</table>\n",
       "</div>"
      ],
      "text/plain": [
       "     imdb_id     budget     revenue                original_title  \\\n",
       "0  tt0369610  150000000  1513528810                Jurassic World   \n",
       "1  tt1392190  150000000   378436354            Mad Max: Fury Road   \n",
       "2  tt2908446  110000000   295238201                     Insurgent   \n",
       "3  tt2488496  200000000  2068178225  Star Wars: The Force Awakens   \n",
       "4  tt2820852  190000000  1506249360                     Furious 7   \n",
       "\n",
       "                                                cast          director  \\\n",
       "0  Chris Pratt|Bryce Dallas Howard|Irrfan Khan|Vi...   Colin Trevorrow   \n",
       "1  Tom Hardy|Charlize Theron|Hugh Keays-Byrne|Nic...     George Miller   \n",
       "2  Shailene Woodley|Theo James|Kate Winslet|Ansel...  Robert Schwentke   \n",
       "3  Harrison Ford|Mark Hamill|Carrie Fisher|Adam D...       J.J. Abrams   \n",
       "4  Vin Diesel|Paul Walker|Jason Statham|Michelle ...         James Wan   \n",
       "\n",
       "                         tagline  \\\n",
       "0              The park is open.   \n",
       "1             What a Lovely Day.   \n",
       "2     One Choice Can Destroy You   \n",
       "3  Every generation has a story.   \n",
       "4            Vengeance Hits Home   \n",
       "\n",
       "                                            overview  runtime  \\\n",
       "0  Twenty-two years after the events of Jurassic ...      124   \n",
       "1  An apocalyptic story set in the furthest reach...      120   \n",
       "2  Beatrice Prior must confront her inner demons ...      119   \n",
       "3  Thirty years after defeating the Galactic Empi...      136   \n",
       "4  Deckard Shaw seeks revenge against Dominic Tor...      137   \n",
       "\n",
       "                                      genres  \\\n",
       "0  Action|Adventure|Science Fiction|Thriller   \n",
       "1  Action|Adventure|Science Fiction|Thriller   \n",
       "2         Adventure|Science Fiction|Thriller   \n",
       "3   Action|Adventure|Science Fiction|Fantasy   \n",
       "4                      Action|Crime|Thriller   \n",
       "\n",
       "                                production_companies release_date  \\\n",
       "0  Universal Studios|Amblin Entertainment|Legenda...     6/9/2015   \n",
       "1  Village Roadshow Pictures|Kennedy Miller Produ...    5/13/2015   \n",
       "2  Summit Entertainment|Mandeville Films|Red Wago...    3/18/2015   \n",
       "3          Lucasfilm|Truenorth Productions|Bad Robot   12/15/2015   \n",
       "4  Universal Pictures|Original Film|Media Rights ...     4/1/2015   \n",
       "\n",
       "   vote_average  release_year  \n",
       "0           6.5          2015  \n",
       "1           7.1          2015  \n",
       "2           6.3          2015  \n",
       "3           7.5          2015  \n",
       "4           7.3          2015  "
      ]
     },
     "execution_count": 74,
     "metadata": {},
     "output_type": "execute_result"
    }
   ],
   "source": [
    "data = pd.read_csv('movie_bd_v5.csv')\n",
    "data.head(5)"
   ]
  },
  {
   "cell_type": "code",
   "execution_count": 75,
   "metadata": {
    "colab": {},
    "colab_type": "code",
    "id": "CoYUnagMVp-C"
   },
   "outputs": [
    {
     "data": {
      "text/plain": [
       "imdb_id                  object\n",
       "budget                    int64\n",
       "revenue                   int64\n",
       "original_title           object\n",
       "cast                     object\n",
       "director                 object\n",
       "tagline                  object\n",
       "overview                 object\n",
       "runtime                   int64\n",
       "genres                   object\n",
       "production_companies     object\n",
       "release_date             object\n",
       "vote_average            float64\n",
       "release_year              int64\n",
       "dtype: object"
      ]
     },
     "execution_count": 75,
     "metadata": {},
     "output_type": "execute_result"
    }
   ],
   "source": [
    "data.dtypes"
   ]
  },
  {
   "cell_type": "markdown",
   "metadata": {
    "colab_type": "text",
    "id": "DTIt7ezGVp-G"
   },
   "source": [
    "# Предобработка"
   ]
  },
  {
   "cell_type": "code",
   "execution_count": 76,
   "metadata": {
    "colab": {},
    "colab_type": "code",
    "id": "jNb40DwKVp-H"
   },
   "outputs": [],
   "source": [
    "answers = {}  # создадим словарь для ответов\n",
    "\n",
    "# тут другие ваши предобработки колонок например:\n",
    "\n",
    "# the time given in the dataset is in string format.\n",
    "# So we need to change this in datetime format\n",
    "# ..."
   ]
  },
  {
   "cell_type": "markdown",
   "metadata": {},
   "source": [
    " #### 6-10 Задача"
   ]
  },
  {
   "cell_type": "code",
   "execution_count": 77,
   "metadata": {},
   "outputs": [
    {
     "data": {
      "text/html": [
       "<div>\n",
       "<style scoped>\n",
       "    .dataframe tbody tr th:only-of-type {\n",
       "        vertical-align: middle;\n",
       "    }\n",
       "\n",
       "    .dataframe tbody tr th {\n",
       "        vertical-align: top;\n",
       "    }\n",
       "\n",
       "    .dataframe thead th {\n",
       "        text-align: right;\n",
       "    }\n",
       "</style>\n",
       "<table border=\"1\" class=\"dataframe\">\n",
       "  <thead>\n",
       "    <tr style=\"text-align: right;\">\n",
       "      <th></th>\n",
       "      <th>imdb_id</th>\n",
       "      <th>budget</th>\n",
       "      <th>revenue</th>\n",
       "      <th>profit</th>\n",
       "      <th>original_title</th>\n",
       "      <th>release_year</th>\n",
       "    </tr>\n",
       "  </thead>\n",
       "  <tbody>\n",
       "    <tr>\n",
       "      <th>0</th>\n",
       "      <td>tt0369610</td>\n",
       "      <td>150000000</td>\n",
       "      <td>1513528810</td>\n",
       "      <td>1363528810</td>\n",
       "      <td>Jurassic World</td>\n",
       "      <td>2015</td>\n",
       "    </tr>\n",
       "    <tr>\n",
       "      <th>1</th>\n",
       "      <td>tt1392190</td>\n",
       "      <td>150000000</td>\n",
       "      <td>378436354</td>\n",
       "      <td>228436354</td>\n",
       "      <td>Mad Max: Fury Road</td>\n",
       "      <td>2015</td>\n",
       "    </tr>\n",
       "    <tr>\n",
       "      <th>2</th>\n",
       "      <td>tt2908446</td>\n",
       "      <td>110000000</td>\n",
       "      <td>295238201</td>\n",
       "      <td>185238201</td>\n",
       "      <td>Insurgent</td>\n",
       "      <td>2015</td>\n",
       "    </tr>\n",
       "    <tr>\n",
       "      <th>3</th>\n",
       "      <td>tt2488496</td>\n",
       "      <td>200000000</td>\n",
       "      <td>2068178225</td>\n",
       "      <td>1868178225</td>\n",
       "      <td>Star Wars: The Force Awakens</td>\n",
       "      <td>2015</td>\n",
       "    </tr>\n",
       "    <tr>\n",
       "      <th>4</th>\n",
       "      <td>tt2820852</td>\n",
       "      <td>190000000</td>\n",
       "      <td>1506249360</td>\n",
       "      <td>1316249360</td>\n",
       "      <td>Furious 7</td>\n",
       "      <td>2015</td>\n",
       "    </tr>\n",
       "  </tbody>\n",
       "</table>\n",
       "</div>"
      ],
      "text/plain": [
       "     imdb_id     budget     revenue      profit                original_title  \\\n",
       "0  tt0369610  150000000  1513528810  1363528810                Jurassic World   \n",
       "1  tt1392190  150000000   378436354   228436354            Mad Max: Fury Road   \n",
       "2  tt2908446  110000000   295238201   185238201                     Insurgent   \n",
       "3  tt2488496  200000000  2068178225  1868178225  Star Wars: The Force Awakens   \n",
       "4  tt2820852  190000000  1506249360  1316249360                     Furious 7   \n",
       "\n",
       "   release_year  \n",
       "0          2015  \n",
       "1          2015  \n",
       "2          2015  \n",
       "3          2015  \n",
       "4          2015  "
      ]
     },
     "execution_count": 77,
     "metadata": {},
     "output_type": "execute_result"
    }
   ],
   "source": [
    "# Создадим датафрейм с колонкой \"profit\"\n",
    "# и колонками \"imdb_id\", \"budget\", \"revenue\", \"original_title\"\n",
    "# на основе копии исходного датафрейма, что бы случайно не\n",
    "# испортить его.\n",
    "data_profit = data.copy()\n",
    "data_profit['profit'] = data_profit['revenue'] - data_profit['budget']\n",
    "data_profit = data_profit[['imdb_id', 'budget',\n",
    "                           'revenue', 'profit',\n",
    "                           'original_title', 'release_year']]\n",
    "data_profit.head(5)"
   ]
  },
  {
   "cell_type": "markdown",
   "metadata": {},
   "source": [
    "#### 11-20 Задача"
   ]
  },
  {
   "cell_type": "code",
   "execution_count": 78,
   "metadata": {},
   "outputs": [
    {
     "data": {
      "text/html": [
       "<div>\n",
       "<style scoped>\n",
       "    .dataframe tbody tr th:only-of-type {\n",
       "        vertical-align: middle;\n",
       "    }\n",
       "\n",
       "    .dataframe tbody tr th {\n",
       "        vertical-align: top;\n",
       "    }\n",
       "\n",
       "    .dataframe thead th {\n",
       "        text-align: right;\n",
       "    }\n",
       "</style>\n",
       "<table border=\"1\" class=\"dataframe\">\n",
       "  <thead>\n",
       "    <tr style=\"text-align: right;\">\n",
       "      <th></th>\n",
       "      <th>imdb_id</th>\n",
       "      <th>budget</th>\n",
       "      <th>revenue</th>\n",
       "      <th>profit</th>\n",
       "      <th>original_title</th>\n",
       "      <th>release_year</th>\n",
       "      <th>genres</th>\n",
       "      <th>director</th>\n",
       "      <th>cast</th>\n",
       "      <th>production_companies</th>\n",
       "      <th>release_date</th>\n",
       "      <th>overview</th>\n",
       "      <th>vote_average</th>\n",
       "    </tr>\n",
       "  </thead>\n",
       "  <tbody>\n",
       "    <tr>\n",
       "      <th>0</th>\n",
       "      <td>[tt0369610]</td>\n",
       "      <td>150000000</td>\n",
       "      <td>1513528810</td>\n",
       "      <td>1363528810</td>\n",
       "      <td>[Jurassic World]</td>\n",
       "      <td>2015</td>\n",
       "      <td>[Action, Adventure, Science Fiction, Thriller]</td>\n",
       "      <td>[Colin Trevorrow]</td>\n",
       "      <td>[Chris Pratt, Bryce Dallas Howard, Irrfan Khan...</td>\n",
       "      <td>[Universal Studios, Amblin Entertainment, Lege...</td>\n",
       "      <td>[6/9/2015]</td>\n",
       "      <td>[Twenty-two years after the events of Jurassic...</td>\n",
       "      <td>6.5</td>\n",
       "    </tr>\n",
       "    <tr>\n",
       "      <th>1</th>\n",
       "      <td>[tt1392190]</td>\n",
       "      <td>150000000</td>\n",
       "      <td>378436354</td>\n",
       "      <td>228436354</td>\n",
       "      <td>[Mad Max: Fury Road]</td>\n",
       "      <td>2015</td>\n",
       "      <td>[Action, Adventure, Science Fiction, Thriller]</td>\n",
       "      <td>[George Miller]</td>\n",
       "      <td>[Tom Hardy, Charlize Theron, Hugh Keays-Byrne,...</td>\n",
       "      <td>[Village Roadshow Pictures, Kennedy Miller Pro...</td>\n",
       "      <td>[5/13/2015]</td>\n",
       "      <td>[An apocalyptic story set in the furthest reac...</td>\n",
       "      <td>7.1</td>\n",
       "    </tr>\n",
       "    <tr>\n",
       "      <th>2</th>\n",
       "      <td>[tt2908446]</td>\n",
       "      <td>110000000</td>\n",
       "      <td>295238201</td>\n",
       "      <td>185238201</td>\n",
       "      <td>[Insurgent]</td>\n",
       "      <td>2015</td>\n",
       "      <td>[Adventure, Science Fiction, Thriller]</td>\n",
       "      <td>[Robert Schwentke]</td>\n",
       "      <td>[Shailene Woodley, Theo James, Kate Winslet, A...</td>\n",
       "      <td>[Summit Entertainment, Mandeville Films, Red W...</td>\n",
       "      <td>[3/18/2015]</td>\n",
       "      <td>[Beatrice Prior must confront her inner demons...</td>\n",
       "      <td>6.3</td>\n",
       "    </tr>\n",
       "    <tr>\n",
       "      <th>3</th>\n",
       "      <td>[tt2488496]</td>\n",
       "      <td>200000000</td>\n",
       "      <td>2068178225</td>\n",
       "      <td>1868178225</td>\n",
       "      <td>[Star Wars: The Force Awakens]</td>\n",
       "      <td>2015</td>\n",
       "      <td>[Action, Adventure, Science Fiction, Fantasy]</td>\n",
       "      <td>[J.J. Abrams]</td>\n",
       "      <td>[Harrison Ford, Mark Hamill, Carrie Fisher, Ad...</td>\n",
       "      <td>[Lucasfilm, Truenorth Productions, Bad Robot]</td>\n",
       "      <td>[12/15/2015]</td>\n",
       "      <td>[Thirty years after defeating the Galactic Emp...</td>\n",
       "      <td>7.5</td>\n",
       "    </tr>\n",
       "    <tr>\n",
       "      <th>4</th>\n",
       "      <td>[tt2820852]</td>\n",
       "      <td>190000000</td>\n",
       "      <td>1506249360</td>\n",
       "      <td>1316249360</td>\n",
       "      <td>[Furious 7]</td>\n",
       "      <td>2015</td>\n",
       "      <td>[Action, Crime, Thriller]</td>\n",
       "      <td>[James Wan]</td>\n",
       "      <td>[Vin Diesel, Paul Walker, Jason Statham, Miche...</td>\n",
       "      <td>[Universal Pictures, Original Film, Media Righ...</td>\n",
       "      <td>[4/1/2015]</td>\n",
       "      <td>[Deckard Shaw seeks revenge against Dominic To...</td>\n",
       "      <td>7.3</td>\n",
       "    </tr>\n",
       "    <tr>\n",
       "      <th>...</th>\n",
       "      <td>...</td>\n",
       "      <td>...</td>\n",
       "      <td>...</td>\n",
       "      <td>...</td>\n",
       "      <td>...</td>\n",
       "      <td>...</td>\n",
       "      <td>...</td>\n",
       "      <td>...</td>\n",
       "      <td>...</td>\n",
       "      <td>...</td>\n",
       "      <td>...</td>\n",
       "      <td>...</td>\n",
       "      <td>...</td>\n",
       "    </tr>\n",
       "    <tr>\n",
       "      <th>1884</th>\n",
       "      <td>[tt0120903]</td>\n",
       "      <td>75000000</td>\n",
       "      <td>157299717</td>\n",
       "      <td>82299717</td>\n",
       "      <td>[X-Men]</td>\n",
       "      <td>2000</td>\n",
       "      <td>[Adventure, Action, Science Fiction]</td>\n",
       "      <td>[Bryan Singer]</td>\n",
       "      <td>[Patrick Stewart, Hugh Jackman, Ian McKellen, ...</td>\n",
       "      <td>[Twentieth Century Fox Film Corporation, Donne...</td>\n",
       "      <td>[7/13/2000]</td>\n",
       "      <td>[Two mutants, Rogue and Wolverine, come to a p...</td>\n",
       "      <td>6.6</td>\n",
       "    </tr>\n",
       "    <tr>\n",
       "      <th>1885</th>\n",
       "      <td>[tt0192255]</td>\n",
       "      <td>22000000</td>\n",
       "      <td>13555988</td>\n",
       "      <td>-8444012</td>\n",
       "      <td>[The Little Vampire]</td>\n",
       "      <td>2000</td>\n",
       "      <td>[Horror, Family, Foreign]</td>\n",
       "      <td>[Uli Edel]</td>\n",
       "      <td>[Richard E. Grant, Jonathan Lipnicki, Jim Cart...</td>\n",
       "      <td>[New Line Cinema]</td>\n",
       "      <td>[10/27/2000]</td>\n",
       "      <td>[Based on the popular books, the story tells o...</td>\n",
       "      <td>6.4</td>\n",
       "    </tr>\n",
       "    <tr>\n",
       "      <th>1886</th>\n",
       "      <td>[tt0131704]</td>\n",
       "      <td>76000000</td>\n",
       "      <td>35134820</td>\n",
       "      <td>-40865180</td>\n",
       "      <td>[The Adventures of Rocky &amp; Bullwinkle]</td>\n",
       "      <td>2000</td>\n",
       "      <td>[Adventure, Animation, Action, Comedy, Family]</td>\n",
       "      <td>[Des McAnuff]</td>\n",
       "      <td>[Rene Russo, Jason Alexander, Piper Perabo, Ra...</td>\n",
       "      <td>[Universal Pictures, Capella International, KC...</td>\n",
       "      <td>[6/30/2000]</td>\n",
       "      <td>[Rocky and Bullwinkle have been living off the...</td>\n",
       "      <td>4.0</td>\n",
       "    </tr>\n",
       "    <tr>\n",
       "      <th>1887</th>\n",
       "      <td>[tt0162983]</td>\n",
       "      <td>40000000</td>\n",
       "      <td>36037909</td>\n",
       "      <td>-3962091</td>\n",
       "      <td>[Hanging Up]</td>\n",
       "      <td>2000</td>\n",
       "      <td>[Comedy, Drama]</td>\n",
       "      <td>[Diane Keaton]</td>\n",
       "      <td>[Meg Ryan, Diane Keaton, Lisa Kudrow, Walter M...</td>\n",
       "      <td>[Laurence Mark Productions, Columbia Pictures ...</td>\n",
       "      <td>[2/16/2000]</td>\n",
       "      <td>[A trio of sisters bond over their ambivalence...</td>\n",
       "      <td>5.2</td>\n",
       "    </tr>\n",
       "    <tr>\n",
       "      <th>1888</th>\n",
       "      <td>[tt0163676]</td>\n",
       "      <td>15000000</td>\n",
       "      <td>5217498</td>\n",
       "      <td>-9782502</td>\n",
       "      <td>[The In Crowd]</td>\n",
       "      <td>2000</td>\n",
       "      <td>[Thriller]</td>\n",
       "      <td>[Mary Lambert]</td>\n",
       "      <td>[Susan Ward, Lori Heuring, Matthew Settle, Nat...</td>\n",
       "      <td>[Warner Bros. Pictures]</td>\n",
       "      <td>[7/19/2000]</td>\n",
       "      <td>[A mentally disturbed young woman takes a job ...</td>\n",
       "      <td>5.2</td>\n",
       "    </tr>\n",
       "  </tbody>\n",
       "</table>\n",
       "<p>1889 rows × 13 columns</p>\n",
       "</div>"
      ],
      "text/plain": [
       "          imdb_id     budget     revenue      profit  \\\n",
       "0     [tt0369610]  150000000  1513528810  1363528810   \n",
       "1     [tt1392190]  150000000   378436354   228436354   \n",
       "2     [tt2908446]  110000000   295238201   185238201   \n",
       "3     [tt2488496]  200000000  2068178225  1868178225   \n",
       "4     [tt2820852]  190000000  1506249360  1316249360   \n",
       "...           ...        ...         ...         ...   \n",
       "1884  [tt0120903]   75000000   157299717    82299717   \n",
       "1885  [tt0192255]   22000000    13555988    -8444012   \n",
       "1886  [tt0131704]   76000000    35134820   -40865180   \n",
       "1887  [tt0162983]   40000000    36037909    -3962091   \n",
       "1888  [tt0163676]   15000000     5217498    -9782502   \n",
       "\n",
       "                              original_title  release_year  \\\n",
       "0                           [Jurassic World]          2015   \n",
       "1                       [Mad Max: Fury Road]          2015   \n",
       "2                                [Insurgent]          2015   \n",
       "3             [Star Wars: The Force Awakens]          2015   \n",
       "4                                [Furious 7]          2015   \n",
       "...                                      ...           ...   \n",
       "1884                                 [X-Men]          2000   \n",
       "1885                    [The Little Vampire]          2000   \n",
       "1886  [The Adventures of Rocky & Bullwinkle]          2000   \n",
       "1887                            [Hanging Up]          2000   \n",
       "1888                          [The In Crowd]          2000   \n",
       "\n",
       "                                              genres            director  \\\n",
       "0     [Action, Adventure, Science Fiction, Thriller]   [Colin Trevorrow]   \n",
       "1     [Action, Adventure, Science Fiction, Thriller]     [George Miller]   \n",
       "2             [Adventure, Science Fiction, Thriller]  [Robert Schwentke]   \n",
       "3      [Action, Adventure, Science Fiction, Fantasy]       [J.J. Abrams]   \n",
       "4                          [Action, Crime, Thriller]         [James Wan]   \n",
       "...                                              ...                 ...   \n",
       "1884            [Adventure, Action, Science Fiction]      [Bryan Singer]   \n",
       "1885                       [Horror, Family, Foreign]          [Uli Edel]   \n",
       "1886  [Adventure, Animation, Action, Comedy, Family]       [Des McAnuff]   \n",
       "1887                                 [Comedy, Drama]      [Diane Keaton]   \n",
       "1888                                      [Thriller]      [Mary Lambert]   \n",
       "\n",
       "                                                   cast  \\\n",
       "0     [Chris Pratt, Bryce Dallas Howard, Irrfan Khan...   \n",
       "1     [Tom Hardy, Charlize Theron, Hugh Keays-Byrne,...   \n",
       "2     [Shailene Woodley, Theo James, Kate Winslet, A...   \n",
       "3     [Harrison Ford, Mark Hamill, Carrie Fisher, Ad...   \n",
       "4     [Vin Diesel, Paul Walker, Jason Statham, Miche...   \n",
       "...                                                 ...   \n",
       "1884  [Patrick Stewart, Hugh Jackman, Ian McKellen, ...   \n",
       "1885  [Richard E. Grant, Jonathan Lipnicki, Jim Cart...   \n",
       "1886  [Rene Russo, Jason Alexander, Piper Perabo, Ra...   \n",
       "1887  [Meg Ryan, Diane Keaton, Lisa Kudrow, Walter M...   \n",
       "1888  [Susan Ward, Lori Heuring, Matthew Settle, Nat...   \n",
       "\n",
       "                                   production_companies  release_date  \\\n",
       "0     [Universal Studios, Amblin Entertainment, Lege...    [6/9/2015]   \n",
       "1     [Village Roadshow Pictures, Kennedy Miller Pro...   [5/13/2015]   \n",
       "2     [Summit Entertainment, Mandeville Films, Red W...   [3/18/2015]   \n",
       "3         [Lucasfilm, Truenorth Productions, Bad Robot]  [12/15/2015]   \n",
       "4     [Universal Pictures, Original Film, Media Righ...    [4/1/2015]   \n",
       "...                                                 ...           ...   \n",
       "1884  [Twentieth Century Fox Film Corporation, Donne...   [7/13/2000]   \n",
       "1885                                  [New Line Cinema]  [10/27/2000]   \n",
       "1886  [Universal Pictures, Capella International, KC...   [6/30/2000]   \n",
       "1887  [Laurence Mark Productions, Columbia Pictures ...   [2/16/2000]   \n",
       "1888                            [Warner Bros. Pictures]   [7/19/2000]   \n",
       "\n",
       "                                               overview  vote_average  \n",
       "0     [Twenty-two years after the events of Jurassic...           6.5  \n",
       "1     [An apocalyptic story set in the furthest reac...           7.1  \n",
       "2     [Beatrice Prior must confront her inner demons...           6.3  \n",
       "3     [Thirty years after defeating the Galactic Emp...           7.5  \n",
       "4     [Deckard Shaw seeks revenge against Dominic To...           7.3  \n",
       "...                                                 ...           ...  \n",
       "1884  [Two mutants, Rogue and Wolverine, come to a p...           6.6  \n",
       "1885  [Based on the popular books, the story tells o...           6.4  \n",
       "1886  [Rocky and Bullwinkle have been living off the...           4.0  \n",
       "1887  [A trio of sisters bond over their ambivalence...           5.2  \n",
       "1888  [A mentally disturbed young woman takes a job ...           5.2  \n",
       "\n",
       "[1889 rows x 13 columns]"
      ]
     },
     "execution_count": 78,
     "metadata": {},
     "output_type": "execute_result"
    }
   ],
   "source": [
    "# Создадим функцию которая возвращает датафрейм из атрибута и его частоты\n",
    "\n",
    "def freq_atr(df, atr, sep):\n",
    "    # не работает без Pandas\n",
    "\n",
    "    freq_atr_dict = {}\n",
    "\n",
    "    for i in df[f'{atr}']:\n",
    "        for j in i.split(f'{sep}'):\n",
    "            if j not in freq_atr_dict.keys():\n",
    "                freq_atr_dict[j] = 1\n",
    "            else:\n",
    "                freq_atr_dict[j] = freq_atr_dict[j]+1\n",
    "\n",
    "    ret_ferq_df = pd.DataFrame({f'{atr}': freq_atr_dict.keys(),\n",
    "                                'frequency': freq_atr_dict.values()})\n",
    "\n",
    "    return ret_ferq_df\n",
    "\n",
    "#freq_atr(data_sm, 'genres','|')\n",
    "\n",
    "\n",
    "# Создадим датафрейм с колонкой \"profit\"\n",
    "# и колонками \"imdb_id\", \"budget\", \"revenue\", \"original_title\"\n",
    "# на основе копии исходного датафрейма, что бы случайно не\n",
    "# испортить его.\n",
    "data_sm = data.copy()\n",
    "data_sm['profit'] = data_sm['revenue'] - data_sm['budget']\n",
    "data_sm = data_sm[['imdb_id', 'budget',\n",
    "                   'revenue', 'profit',\n",
    "                   'original_title', 'release_year',\n",
    "                   'genres', 'director',\n",
    "                   'cast', 'production_companies',\n",
    "                   'release_date', 'overview',\n",
    "                   'vote_average']]\n",
    "\n",
    "# Создадим датафрейм с \"profit\" > 0\n",
    "data_sm_prfitble = data_sm[data_sm['profit'] > 0]\n",
    "\n",
    "# Для второго способа нужно подготовить суммарный датафрейм с списками\n",
    "# вместо строк по разделителю \"|\", создадим для этого функцию\n",
    "data_sm_adv = data_sm.apply(lambda x: x.str.split(\n",
    "    '|') if x.dtypes == object else x)\n",
    "data_sm_adv"
   ]
  },
  {
   "cell_type": "markdown",
   "metadata": {
    "colab_type": "text",
    "id": "YxZaH-nPVp-L"
   },
   "source": [
    "# 1. У какого фильма из списка самый большой бюджет?"
   ]
  },
  {
   "cell_type": "markdown",
   "metadata": {
    "colab_type": "text",
    "id": "Nd-G5gX6Vp-M"
   },
   "source": [
    "Использовать варианты ответов в коде решения запрещено.    \n",
    "Вы думаете и в жизни у вас будут варианты ответов?)"
   ]
  },
  {
   "cell_type": "code",
   "execution_count": 79,
   "metadata": {
    "colab": {},
    "colab_type": "code",
    "id": "uVnXAY5RVp-O"
   },
   "outputs": [],
   "source": [
    "# в словарь вставляем номер вопроса и ваш ответ на него\n",
    "# Пример:\n",
    "answers['1'] = '2. Spider-Man 3 (tt0413300)'\n",
    "\n",
    "# запишите свой вариант ответа\n",
    "# Ответ:(+)\n",
    "answers['1'] = 'Pirates of the Caribbean: On Stranger Tides (tt1298650)'\n",
    "\n",
    "# если ответили верно, можете добавить комментарий со значком \"+\""
   ]
  },
  {
   "cell_type": "code",
   "execution_count": 141,
   "metadata": {
    "colab": {},
    "colab_type": "code",
    "id": "dZwb3m28Vp-S"
   },
   "outputs": [
    {
     "data": {
      "text/plain": [
       "'Pirates of the Caribbean: On Stranger Tides (tt1298650)'"
      ]
     },
     "execution_count": 141,
     "metadata": {},
     "output_type": "execute_result"
    }
   ],
   "source": [
    "# тут пишем ваш код для решения данного вопроса:\n",
    "# ====================================================================\n",
    "# мой код и мои комментарии =):\n",
    "\n",
    "# Отфильтруем исходный DataFrame по максимальному значению в\n",
    "# колонке \"budget\".\n",
    "bigest_budget_film_df = data[data['budget'] == data['budget'].max()]\n",
    "\n",
    "# Получим имя и imdb id в форме ответа\n",
    "original_title_of = bigest_budget_film_df['original_title'].iloc[0]\n",
    "imdb_id_of = bigest_budget_film_df['imdb_id'].iloc[0]\n",
    "str_for_answer1 = f'{original_title_of} ({imdb_id_of})'\n",
    "\n",
    "str_for_answer1"
   ]
  },
  {
   "cell_type": "markdown",
   "metadata": {
    "colab_type": "text",
    "id": "K7L3nbRXVp-X"
   },
   "source": [
    "ВАРИАНТ 2"
   ]
  },
  {
   "cell_type": "code",
   "execution_count": 81,
   "metadata": {
    "colab": {},
    "colab_type": "code",
    "id": "OGaoQI7rVp-X"
   },
   "outputs": [],
   "source": [
    "# можно добавлять разные варианты решения"
   ]
  },
  {
   "cell_type": "markdown",
   "metadata": {
    "colab_type": "text",
    "id": "FNRbbI3vVp-c"
   },
   "source": [
    "# 2. Какой из фильмов самый длительный (в минутах)?"
   ]
  },
  {
   "cell_type": "code",
   "execution_count": 82,
   "metadata": {
    "colab": {},
    "colab_type": "code",
    "id": "vHAoEXNTVp-d"
   },
   "outputs": [],
   "source": [
    "# думаю логику работы с этим словарем вы уже поняли,\n",
    "# по этому не буду больше его дублировать\n",
    "\n",
    "# Ответ:(+)\n",
    "answers['2'] = 'Gods and Generals (tt0279111)'"
   ]
  },
  {
   "cell_type": "code",
   "execution_count": 83,
   "metadata": {
    "colab": {},
    "colab_type": "code",
    "id": "ot-VX2XrVp-g"
   },
   "outputs": [
    {
     "data": {
      "text/plain": [
       "'Gods and Generals (tt0279111)'"
      ]
     },
     "execution_count": 83,
     "metadata": {},
     "output_type": "execute_result"
    }
   ],
   "source": [
    "# Решение\n",
    "# Аналогично Задаче 1.\n",
    "# Отфильтруем исходный DataFrame по максимальному значению в\n",
    "# колонке \"runtime\".\n",
    "longest_film_df = data[data['runtime'] == data['runtime'].max()]\n",
    "\n",
    "# Получим имя и imdb id в форме ответа\n",
    "original_title_of = longest_film_df['original_title'].iloc[0]\n",
    "imdb_id_of = longest_film_df['imdb_id'].iloc[0]\n",
    "\n",
    "str_for_answer2 = f'{original_title_of} ({imdb_id_of})'\n",
    "str_for_answer2"
   ]
  },
  {
   "cell_type": "markdown",
   "metadata": {
    "colab_type": "text",
    "id": "bapLlpW8Vp-k"
   },
   "source": [
    "# 3. Какой из фильмов самый короткий (в минутах)?\n",
    "\n",
    "\n",
    "\n"
   ]
  },
  {
   "cell_type": "code",
   "execution_count": 84,
   "metadata": {
    "colab": {},
    "colab_type": "code",
    "id": "YBxaSHuAVp-l"
   },
   "outputs": [],
   "source": [
    "# Ответ:(+)\n",
    "answers['3'] = 'Winnie the Pooh (tt1449283)'"
   ]
  },
  {
   "cell_type": "code",
   "execution_count": 85,
   "metadata": {},
   "outputs": [
    {
     "data": {
      "text/plain": [
       "'Winnie the Pooh (tt1449283)'"
      ]
     },
     "execution_count": 85,
     "metadata": {},
     "output_type": "execute_result"
    }
   ],
   "source": [
    "# Решение\n",
    "# Аналогично Задаче 1.\n",
    "# Отфильтруем исходный DataFrame по минимальному значению в\n",
    "# колонке \"runtime\".\n",
    "shortest_film_df = data[data['runtime'] == data['runtime'].min()]\n",
    "\n",
    "# Получим имя и imdb id в форме ответа\n",
    "original_title_of = shortest_film_df['original_title'].iloc[0]\n",
    "imdb_id_of = shortest_film_df['imdb_id'].iloc[0]\n",
    "\n",
    "str_for_answer3 = f'{original_title_of} ({imdb_id_of})'\n",
    "str_for_answer3"
   ]
  },
  {
   "cell_type": "markdown",
   "metadata": {
    "colab_type": "text",
    "id": "TfQbxbfNVp-p"
   },
   "source": [
    "# 4. Какова средняя длительность фильмов?\n"
   ]
  },
  {
   "cell_type": "code",
   "execution_count": 86,
   "metadata": {
    "colab": {},
    "colab_type": "code",
    "id": "5K6dKZYVVp-q"
   },
   "outputs": [],
   "source": [
    "# Ответ:(+)\n",
    "answers['4'] = '110'"
   ]
  },
  {
   "cell_type": "code",
   "execution_count": 87,
   "metadata": {},
   "outputs": [
    {
     "data": {
      "text/plain": [
       "'110'"
      ]
     },
     "execution_count": 87,
     "metadata": {},
     "output_type": "execute_result"
    }
   ],
   "source": [
    "# Решение\n",
    "runtime_mean = data['runtime'].mean()\n",
    "\n",
    "# Получим в форме ответа\n",
    "str_for_answer4 = str(round(runtime_mean))\n",
    "str_for_answer4"
   ]
  },
  {
   "cell_type": "markdown",
   "metadata": {
    "colab_type": "text",
    "id": "r5TvbnT_Vp-u"
   },
   "source": [
    "# 5. Каково медианное значение длительности фильмов? "
   ]
  },
  {
   "cell_type": "code",
   "execution_count": 88,
   "metadata": {
    "colab": {},
    "colab_type": "code",
    "id": "iBROplKnVp-v"
   },
   "outputs": [],
   "source": [
    "# Ответ:(+)\n",
    "answers['5'] = '107'"
   ]
  },
  {
   "cell_type": "code",
   "execution_count": 89,
   "metadata": {},
   "outputs": [
    {
     "data": {
      "text/plain": [
       "'107'"
      ]
     },
     "execution_count": 89,
     "metadata": {},
     "output_type": "execute_result"
    }
   ],
   "source": [
    "# Решение\n",
    "runtime_median = data['runtime'].median()\n",
    "\n",
    "# Получим в форме ответа\n",
    "str_for_answer5 = str(round(runtime_median))\n",
    "str_for_answer5"
   ]
  },
  {
   "cell_type": "markdown",
   "metadata": {
    "colab_type": "text",
    "id": "39P-deDSVp-y"
   },
   "source": [
    "# 6. Какой самый прибыльный фильм?\n",
    "#### Внимание! Здесь и далее под «прибылью» или «убытками» понимается разность между сборами и бюджетом фильма. (прибыль = сборы - бюджет) в нашем датасете это будет (profit = revenue - budget) "
   ]
  },
  {
   "cell_type": "code",
   "execution_count": 90,
   "metadata": {
    "colab": {},
    "colab_type": "code",
    "id": "UYZh4T9WVp-y"
   },
   "outputs": [],
   "source": [
    "# лучше код получения столбца profit вынести в Предобработку что в начале"
   ]
  },
  {
   "cell_type": "code",
   "execution_count": 91,
   "metadata": {},
   "outputs": [],
   "source": [
    "# Ответ:(+)\n",
    "answers['6'] = 'Avatar (tt0499549)'"
   ]
  },
  {
   "cell_type": "code",
   "execution_count": 92,
   "metadata": {},
   "outputs": [
    {
     "data": {
      "text/plain": [
       "'Avatar (tt0499549)'"
      ]
     },
     "execution_count": 92,
     "metadata": {},
     "output_type": "execute_result"
    }
   ],
   "source": [
    "# Решение\n",
    "# Отфильтруем Подготовленный DataFrame по максимальному значению в\n",
    "# колонке \"profit\".\n",
    "most_profitable_film = data_profit[data_profit['profit']\n",
    "                                   == data_profit['profit'].max()]\n",
    "\n",
    "# Получим имя и imdb id в форме ответа\n",
    "original_title_of = most_profitable_film['original_title'].iloc[0]\n",
    "imdb_id_of = most_profitable_film['imdb_id'].iloc[0]\n",
    "\n",
    "str_for_answer6 = f'{original_title_of} ({imdb_id_of})'\n",
    "str_for_answer6"
   ]
  },
  {
   "cell_type": "markdown",
   "metadata": {
    "colab_type": "text",
    "id": "M99JmIX4Vp-2"
   },
   "source": [
    "# 7. Какой фильм самый убыточный? "
   ]
  },
  {
   "cell_type": "code",
   "execution_count": 93,
   "metadata": {
    "colab": {},
    "colab_type": "code",
    "id": "w-D2m4XPVp-3"
   },
   "outputs": [],
   "source": [
    "# Ответ:(+)\n",
    "answers['7'] = 'The Lone Ranger (tt1210819)'"
   ]
  },
  {
   "cell_type": "code",
   "execution_count": 94,
   "metadata": {},
   "outputs": [
    {
     "data": {
      "text/plain": [
       "'The Lone Ranger (tt1210819)'"
      ]
     },
     "execution_count": 94,
     "metadata": {},
     "output_type": "execute_result"
    }
   ],
   "source": [
    "# Решение\n",
    "# Отфильтруем Подготовленный DataFrame по минимальному значению в\n",
    "# колонке \"profit\".\n",
    "most_unprofitable_film = data_profit[data_profit['profit']\n",
    "                                   == data_profit['profit'].min()]\n",
    "\n",
    "# Получим имя и imdb id в форме ответа\n",
    "original_title_of = most_unprofitable_film['original_title'].iloc[0]\n",
    "imdb_id_of = most_unprofitable_film['imdb_id'].iloc[0]\n",
    "\n",
    "str_for_answer7 = f'{original_title_of} ({imdb_id_of})'\n",
    "str_for_answer7"
   ]
  },
  {
   "cell_type": "markdown",
   "metadata": {
    "colab_type": "text",
    "id": "wEOM5ERVVp-6"
   },
   "source": [
    "# 8. У скольких фильмов из датасета объем сборов оказался выше бюджета?"
   ]
  },
  {
   "cell_type": "code",
   "execution_count": 95,
   "metadata": {
    "colab": {},
    "colab_type": "code",
    "id": "y00_7HD6Vp-7"
   },
   "outputs": [],
   "source": [
    "# Ответ:(+)\n",
    "answers['8'] = '1478'"
   ]
  },
  {
   "cell_type": "code",
   "execution_count": 96,
   "metadata": {},
   "outputs": [
    {
     "data": {
      "text/plain": [
       "'1478'"
      ]
     },
     "execution_count": 96,
     "metadata": {},
     "output_type": "execute_result"
    }
   ],
   "source": [
    "# Решение\n",
    "# Отфильтруем Подготовленный DataFrame с значениями > 10 в\n",
    "# колонке \"profit\".\n",
    "profitable_films_df = data_profit[data_profit['profit'] > 0]\n",
    "\n",
    "# Получим ответ\n",
    "str_for_answer8 = str(len(profitable_films_df.index))\n",
    "str_for_answer8"
   ]
  },
  {
   "cell_type": "markdown",
   "metadata": {
    "colab_type": "text",
    "id": "xhpspA9KVp_A"
   },
   "source": [
    "# 9. Какой фильм оказался самым кассовым в 2008 году?"
   ]
  },
  {
   "cell_type": "code",
   "execution_count": 97,
   "metadata": {
    "colab": {},
    "colab_type": "code",
    "id": "MoUyQr9RVp_B"
   },
   "outputs": [],
   "source": [
    "# Ответ:(+)\n",
    "answers['9'] = 'The Dark Knight (tt0468569)'"
   ]
  },
  {
   "cell_type": "code",
   "execution_count": 98,
   "metadata": {},
   "outputs": [
    {
     "data": {
      "text/plain": [
       "'The Dark Knight (tt0468569)'"
      ]
     },
     "execution_count": 98,
     "metadata": {},
     "output_type": "execute_result"
    }
   ],
   "source": [
    "# Решение\n",
    "# Отфильтруем Подготовленный DataFrame c значением равным \"2008\" в\n",
    "# колонке \"release_year\".\n",
    "films_2008 = data_profit[data_profit['release_year']\n",
    "                         == 2008]\n",
    "\n",
    "# Отфильтруем \"films_2008\" DataFrame c максимальным значением в\n",
    "# колонке \"revenue\".\n",
    "highest_grossing_film_2008 = films_2008[films_2008['revenue']\n",
    "                                        == films_2008['revenue'].max()]\n",
    "\n",
    "# Получим имя и imdb id в форме ответа\n",
    "original_title_of = highest_grossing_film_2008['original_title'].iloc[0]\n",
    "imdb_id_of = highest_grossing_film_2008['imdb_id'].iloc[0]\n",
    "\n",
    "str_for_answer9 = f'{original_title_of} ({imdb_id_of})'\n",
    "str_for_answer9"
   ]
  },
  {
   "cell_type": "markdown",
   "metadata": {
    "colab_type": "text",
    "id": "Zi4hDKidVp_F"
   },
   "source": [
    "# 10. Самый убыточный фильм за период с 2012 по 2014 г. (включительно)?\n"
   ]
  },
  {
   "cell_type": "code",
   "execution_count": 99,
   "metadata": {
    "colab": {},
    "colab_type": "code",
    "id": "XqyRmufJVp_F"
   },
   "outputs": [],
   "source": [
    "# Ответ:(+)\n",
    "answers['10'] = 'The Lone Ranger (tt1210819)'"
   ]
  },
  {
   "cell_type": "code",
   "execution_count": 100,
   "metadata": {},
   "outputs": [
    {
     "data": {
      "text/plain": [
       "'The Lone Ranger (tt1210819)'"
      ]
     },
     "execution_count": 100,
     "metadata": {},
     "output_type": "execute_result"
    }
   ],
   "source": [
    "# Решение\n",
    "# Отфильтруем Подготовленный DataFrame c значением равным \"2012 - 2014\" в\n",
    "# колонке \"release_year\". unprofitable\n",
    "films_2012_2014 = data_profit[(data_profit['release_year']\n",
    "                               >= 2012) &\n",
    "                              (data_profit['release_year']\n",
    "                               <= 2014)]\n",
    "\n",
    "# most_unprofitable_film_2012_2014 == muf_12_14\n",
    "muf_12_14 = films_2012_2014[films_2012_2014['profit']\n",
    "                            == films_2012_2014['profit'].min()]\n",
    "\n",
    "# Получим имя и imdb id в форме ответа\n",
    "original_title_of = muf_12_14['original_title'].iloc[0]\n",
    "imdb_id_of = muf_12_14['imdb_id'].iloc[0]\n",
    "\n",
    "str_for_answer10 = f'{original_title_of} ({imdb_id_of})'\n",
    "str_for_answer10"
   ]
  },
  {
   "cell_type": "markdown",
   "metadata": {
    "colab_type": "text",
    "id": "EA7Sa9dkVp_I"
   },
   "source": [
    "# 11. Какого жанра фильмов больше всего?"
   ]
  },
  {
   "cell_type": "code",
   "execution_count": 101,
   "metadata": {
    "colab": {},
    "colab_type": "code",
    "id": "zsJAwJ8QVp_J"
   },
   "outputs": [],
   "source": [
    "# эту задачу тоже можно решать разными подходами, попробуй реализовать разные варианты\n",
    "# если будешь добавлять функцию - выноси ее в предобработку что в начале\n",
    "\n",
    "# второй способ с помощью groupby!!"
   ]
  },
  {
   "cell_type": "code",
   "execution_count": 102,
   "metadata": {},
   "outputs": [],
   "source": [
    "# Ответ(+):\n",
    "answers['11'] = 'Drama'"
   ]
  },
  {
   "cell_type": "code",
   "execution_count": 103,
   "metadata": {},
   "outputs": [
    {
     "data": {
      "text/plain": [
       "'Drama'"
      ]
     },
     "execution_count": 103,
     "metadata": {},
     "output_type": "execute_result"
    }
   ],
   "source": [
    "# Решение\n",
    "# Отфильтруем Подготовленный DataFrame c максимальным значением значением\n",
    "genres_frec_df = freq_atr(data_sm, 'genres','|')\n",
    "max_freq_genre = genres_frec_df[genres_frec_df['frequency']\n",
    "                                == genres_frec_df['frequency'].max()]\n",
    "# Получим ответ\n",
    "str_for_answer11 = str(max_freq_genre['genres'].iloc[0])\n",
    "str_for_answer11"
   ]
  },
  {
   "cell_type": "markdown",
   "metadata": {
    "colab_type": "text",
    "id": "Ax6g2C8SVp_M"
   },
   "source": [
    "ВАРИАНТ 2"
   ]
  },
  {
   "cell_type": "code",
   "execution_count": 104,
   "metadata": {
    "colab": {},
    "colab_type": "code",
    "id": "otO3SbrSVp_N"
   },
   "outputs": [
    {
     "data": {
      "text/plain": [
       "'Drama'"
      ]
     },
     "execution_count": 104,
     "metadata": {},
     "output_type": "execute_result"
    }
   ],
   "source": [
    "# Через groupeby и explode\n",
    "ddf11 = data_sm_adv.explode('genres')\n",
    "# Получим ответ\n",
    "ddf11.groupby(by='genres')['imdb_id'].count(\n",
    ").sort_values(ascending=False).index[0]"
   ]
  },
  {
   "cell_type": "markdown",
   "metadata": {
    "colab_type": "text",
    "id": "T9_bPWpkVp_Q"
   },
   "source": [
    "# 12. Фильмы какого жанра чаще всего становятся прибыльными? "
   ]
  },
  {
   "cell_type": "code",
   "execution_count": 105,
   "metadata": {
    "colab": {},
    "colab_type": "code",
    "id": "Tmt8MaK1Vp_R"
   },
   "outputs": [],
   "source": [
    "# Ответ(+)\n",
    "answers['12'] = 'Drama'"
   ]
  },
  {
   "cell_type": "code",
   "execution_count": 106,
   "metadata": {},
   "outputs": [
    {
     "data": {
      "text/plain": [
       "'Drama'"
      ]
     },
     "execution_count": 106,
     "metadata": {},
     "output_type": "execute_result"
    }
   ],
   "source": [
    "# Решение\n",
    "# Отфильтруем Подготовленный DataFrame c максимальным значением значением\n",
    "genres_frec_df_prft = freq_atr(data_sm_prfitble, 'genres', '|')\n",
    "max_freq_genre_prft = genres_frec_df_prft[genres_frec_df_prft['frequency']\n",
    "                            == genres_frec_df_prft['frequency'].max()]\n",
    "\n",
    "# Получим ответ\n",
    "str_for_answer12 = str(max_freq_genre_prft['genres'].iloc[0])\n",
    "str_for_answer12"
   ]
  },
  {
   "cell_type": "markdown",
   "metadata": {},
   "source": [
    "ВАРИАНТ 2"
   ]
  },
  {
   "cell_type": "code",
   "execution_count": 107,
   "metadata": {},
   "outputs": [
    {
     "data": {
      "text/plain": [
       "'Drama'"
      ]
     },
     "execution_count": 107,
     "metadata": {},
     "output_type": "execute_result"
    }
   ],
   "source": [
    "# Через groupeby и explode\n",
    "ddf12 = data_sm_adv[data_sm_adv['profit'] > 0].explode('genres')\n",
    "# Получим ответ\n",
    "ddf12.groupby(by='genres')['imdb_id'].count(\n",
    ").sort_values(ascending=False).index[0]"
   ]
  },
  {
   "cell_type": "markdown",
   "metadata": {
    "colab_type": "text",
    "id": "0F23bgsDVp_U"
   },
   "source": [
    "# 13. У какого режиссера самые большие суммарные кассовые сборы?"
   ]
  },
  {
   "cell_type": "code",
   "execution_count": 108,
   "metadata": {},
   "outputs": [],
   "source": [
    "# Ответ(+)\n",
    "answers['13'] = 'Peter Jackson'"
   ]
  },
  {
   "cell_type": "code",
   "execution_count": 109,
   "metadata": {
    "colab": {},
    "colab_type": "code",
    "id": "K6Z3J8ygVp_X"
   },
   "outputs": [
    {
     "data": {
      "text/plain": [
       "'Peter Jackson'"
      ]
     },
     "execution_count": 109,
     "metadata": {},
     "output_type": "execute_result"
    }
   ],
   "source": [
    "ddf13 = data_sm_adv.explode('director')\n",
    "ddf13.groupby(by='director')['revenue'].sum(\n",
    ").sort_values(ascending=False).index[0]"
   ]
  },
  {
   "cell_type": "markdown",
   "metadata": {
    "colab_type": "text",
    "id": "PsYC9FgRVp_a"
   },
   "source": [
    "# 14. Какой режисер снял больше всего фильмов в стиле Action?"
   ]
  },
  {
   "cell_type": "code",
   "execution_count": 110,
   "metadata": {},
   "outputs": [],
   "source": [
    "# Ответ(+)\n",
    "answers['14'] = 'Robert Rodriguez'"
   ]
  },
  {
   "cell_type": "code",
   "execution_count": 111,
   "metadata": {
    "colab": {},
    "colab_type": "code",
    "id": "wd2M-wHeVp_b"
   },
   "outputs": [
    {
     "data": {
      "text/plain": [
       "'Robert Rodriguez'"
      ]
     },
     "execution_count": 111,
     "metadata": {},
     "output_type": "execute_result"
    }
   ],
   "source": [
    "ddf14 = ddf13.explode('genres')\n",
    "ddf14[ddf14['genres'] == 'Action']['director'].value_counts(\n",
    ").sort_values(ascending=False).index[0]"
   ]
  },
  {
   "cell_type": "markdown",
   "metadata": {
    "colab_type": "text",
    "id": "PQ0KciD7Vp_f"
   },
   "source": [
    "# 15. Фильмы с каким актером принесли самые высокие кассовые сборы в 2012 году? "
   ]
  },
  {
   "cell_type": "code",
   "execution_count": 112,
   "metadata": {},
   "outputs": [],
   "source": [
    "# Ответ(+)\n",
    "answers['15'] = 'Chris Hemsworth'"
   ]
  },
  {
   "cell_type": "code",
   "execution_count": 113,
   "metadata": {
    "colab": {},
    "colab_type": "code",
    "id": "aga62oeKVp_g"
   },
   "outputs": [
    {
     "data": {
      "text/plain": [
       "'Chris Hemsworth'"
      ]
     },
     "execution_count": 113,
     "metadata": {},
     "output_type": "execute_result"
    }
   ],
   "source": [
    "ddf15 = data_sm_adv[data_sm_adv['release_year'] == 2012]\n",
    "ddf15.explode('cast').groupby(by='cast').sum(\n",
    ").sort_values(by='revenue', ascending=False).index[0]"
   ]
  },
  {
   "cell_type": "markdown",
   "metadata": {
    "colab_type": "text",
    "id": "mWHyyL7QVp_j"
   },
   "source": [
    "# 16. Какой актер снялся в большем количестве высокобюджетных фильмов?"
   ]
  },
  {
   "cell_type": "code",
   "execution_count": 114,
   "metadata": {},
   "outputs": [],
   "source": [
    "# Ответ(+)\n",
    "answers['16'] = 'Matt Damon'"
   ]
  },
  {
   "cell_type": "code",
   "execution_count": 115,
   "metadata": {
    "colab": {},
    "colab_type": "code",
    "id": "qQtmHKTFVp_k"
   },
   "outputs": [
    {
     "data": {
      "text/plain": [
       "'Matt Damon'"
      ]
     },
     "execution_count": 115,
     "metadata": {},
     "output_type": "execute_result"
    }
   ],
   "source": [
    "ddf16 = data_sm_adv[data_sm_adv['budget'] > data_sm_adv['budget'].mean()]\n",
    "ddf16.explode('cast').groupby(by='cast')[\n",
    "    'imdb_id'].count().sort_values(ascending=False).index[0]"
   ]
  },
  {
   "cell_type": "markdown",
   "metadata": {
    "colab_type": "text",
    "id": "NIh6AaW5Vp_n"
   },
   "source": [
    "# 17. В фильмах какого жанра больше всего снимался Nicolas Cage? "
   ]
  },
  {
   "cell_type": "code",
   "execution_count": 116,
   "metadata": {},
   "outputs": [],
   "source": [
    "# Ответ(+)\n",
    "answers['17'] = 'Action'"
   ]
  },
  {
   "cell_type": "code",
   "execution_count": 117,
   "metadata": {
    "colab": {},
    "colab_type": "code",
    "id": "H74SJDIBVp_n"
   },
   "outputs": [
    {
     "data": {
      "text/plain": [
       "'Action'"
      ]
     },
     "execution_count": 117,
     "metadata": {},
     "output_type": "execute_result"
    }
   ],
   "source": [
    "ddf17 = data_sm_adv.explode('cast')\n",
    "ddf17[ddf17['cast'] == 'Nicolas Cage'].explode(\n",
    "    'genres')['genres'].value_counts().index[0]"
   ]
  },
  {
   "cell_type": "markdown",
   "metadata": {
    "colab_type": "text",
    "id": "RqOmPRfWVp_q"
   },
   "source": [
    "# 18. Самый убыточный фильм от Paramount Pictures"
   ]
  },
  {
   "cell_type": "code",
   "execution_count": 118,
   "metadata": {
    "colab": {},
    "colab_type": "code",
    "id": "9E_B0Y96Vp_r"
   },
   "outputs": [],
   "source": [
    "# Ответ(+)\n",
    "answers['18'] = 'K-19: The Widowmaker'"
   ]
  },
  {
   "cell_type": "code",
   "execution_count": 119,
   "metadata": {},
   "outputs": [
    {
     "data": {
      "text/plain": [
       "'K-19: The Widowmaker'"
      ]
     },
     "execution_count": 119,
     "metadata": {},
     "output_type": "execute_result"
    }
   ],
   "source": [
    "ddf18 = data_sm_adv.explode('production_companies')\n",
    "ddf18 = ddf18[ddf18['production_companies'] == 'Paramount Pictures']\n",
    "ddf18[ddf18['profit'] == ddf18['profit'].min()]['original_title'].iloc[0][0]"
   ]
  },
  {
   "cell_type": "markdown",
   "metadata": {
    "colab_type": "text",
    "id": "vS8Ur6ddVp_u"
   },
   "source": [
    "# 19. Какой год стал самым успешным по суммарным кассовым сборам?"
   ]
  },
  {
   "cell_type": "code",
   "execution_count": 120,
   "metadata": {
    "colab": {},
    "colab_type": "code",
    "id": "Dnbt4GdIVp_v"
   },
   "outputs": [],
   "source": [
    "# Ответ(+)\n",
    "answers['19'] = '2015'"
   ]
  },
  {
   "cell_type": "code",
   "execution_count": 121,
   "metadata": {},
   "outputs": [
    {
     "data": {
      "text/plain": [
       "2015"
      ]
     },
     "execution_count": 121,
     "metadata": {},
     "output_type": "execute_result"
    }
   ],
   "source": [
    "ddf19 = data_sm_adv.groupby(by = 'release_year').sum()\n",
    "ddf19['revenue'].sort_values(ascending=False).index[0]"
   ]
  },
  {
   "cell_type": "markdown",
   "metadata": {
    "colab_type": "text",
    "id": "JAzJh4QAVp_z"
   },
   "source": [
    "# 20. Какой самый прибыльный год для студии Warner Bros?"
   ]
  },
  {
   "cell_type": "code",
   "execution_count": 122,
   "metadata": {
    "colab": {},
    "colab_type": "code",
    "id": "wgVu02DEVp_0"
   },
   "outputs": [],
   "source": [
    "# Ответ(+)\n",
    "answers['20'] = '2014'"
   ]
  },
  {
   "cell_type": "code",
   "execution_count": 123,
   "metadata": {},
   "outputs": [
    {
     "data": {
      "text/plain": [
       "2014"
      ]
     },
     "execution_count": 123,
     "metadata": {},
     "output_type": "execute_result"
    }
   ],
   "source": [
    "ddf20 = data_sm_adv.explode('production_companies')\n",
    "ddf20 = ddf20[ddf20.production_companies.str.contains('Warner Bros')]\n",
    "ddf20 = ddf20.groupby(by = 'release_year').sum()\n",
    "ddf20['profit'].sort_values(ascending=False).index[0]"
   ]
  },
  {
   "cell_type": "markdown",
   "metadata": {
    "colab_type": "text",
    "id": "8Im1S2HRVp_4"
   },
   "source": [
    "# 21. В каком месяце за все годы суммарно вышло больше всего фильмов?"
   ]
  },
  {
   "cell_type": "code",
   "execution_count": 124,
   "metadata": {
    "colab": {},
    "colab_type": "code",
    "id": "lev6TH7gVp_4"
   },
   "outputs": [],
   "source": [
    "# Ответ(+)\n",
    "answers['21'] = 'September'"
   ]
  },
  {
   "cell_type": "code",
   "execution_count": 125,
   "metadata": {},
   "outputs": [
    {
     "data": {
      "text/plain": [
       "'September'"
      ]
     },
     "execution_count": 125,
     "metadata": {},
     "output_type": "execute_result"
    }
   ],
   "source": [
    "ddf21 = data_sm_adv.copy()\n",
    "ddf21['release_date'] = data['release_date']  # что бы столбец был str\n",
    "ddf21['release_date'] = pd.to_datetime(\n",
    "    ddf21['release_date'], format='%m/%d/%Y')\n",
    "ddf21['relise_month'] = ddf21['release_date'].dt.month_name()\n",
    "ddf21.groupby(by='relise_month')['imdb_id'].count(\n",
    ").sort_values(ascending=False).index[0]"
   ]
  },
  {
   "cell_type": "markdown",
   "metadata": {
    "colab_type": "text",
    "id": "uAJsZ_NeVp_7"
   },
   "source": [
    "# 22. Сколько суммарно вышло фильмов летом? (за июнь, июль, август)"
   ]
  },
  {
   "cell_type": "code",
   "execution_count": 126,
   "metadata": {},
   "outputs": [],
   "source": [
    "# Ответ(+)\n",
    "answers['22'] = '450'"
   ]
  },
  {
   "cell_type": "code",
   "execution_count": 127,
   "metadata": {
    "colab": {},
    "colab_type": "code",
    "id": "Aa-hEREoVp_8"
   },
   "outputs": [
    {
     "data": {
      "text/plain": [
       "450"
      ]
     },
     "execution_count": 127,
     "metadata": {},
     "output_type": "execute_result"
    }
   ],
   "source": [
    "ddf22 = ddf21.groupby(by='relise_month').count()\n",
    "ddf22.query('relise_month in [\"August\",\"July\",\"June\"]')['imdb_id'].sum()"
   ]
  },
  {
   "cell_type": "markdown",
   "metadata": {
    "colab_type": "text",
    "id": "G94ppOY1VqAA"
   },
   "source": [
    "# 23. Для какого режиссера зима – самое продуктивное время года? "
   ]
  },
  {
   "cell_type": "code",
   "execution_count": 142,
   "metadata": {},
   "outputs": [],
   "source": [
    "# Ответ:(+)\n",
    "answers['23'] = 'Peter Jackson'"
   ]
  },
  {
   "cell_type": "code",
   "execution_count": 129,
   "metadata": {
    "colab": {},
    "colab_type": "code",
    "id": "RhNTsamuVqAB"
   },
   "outputs": [
    {
     "data": {
      "text/plain": [
       "'Peter Jackson'"
      ]
     },
     "execution_count": 129,
     "metadata": {},
     "output_type": "execute_result"
    }
   ],
   "source": [
    "#ddf21.query('relise_month in [\"January \",\"February \",\"March \"]')\n",
    "ddf23 = ddf21[(ddf21['relise_month'] == 'January') | \n",
    "              (ddf21['relise_month'] == 'February') | \n",
    "              (ddf21['relise_month'] == 'December')]\n",
    "\n",
    "ddf23 = ddf23.explode('director').groupby(by = 'director').count()\n",
    "ddf23['imdb_id'].sort_values(ascending=False).index[0]"
   ]
  },
  {
   "cell_type": "markdown",
   "metadata": {
    "colab_type": "text",
    "id": "RBo0JVjVVqAF"
   },
   "source": [
    "# 24. Какая студия дает самые длинные названия своим фильмам по количеству символов?"
   ]
  },
  {
   "cell_type": "code",
   "execution_count": 143,
   "metadata": {},
   "outputs": [],
   "source": [
    "# Ответ:(+)\n",
    "answers['24'] = 'Four By Two Productions'"
   ]
  },
  {
   "cell_type": "code",
   "execution_count": 131,
   "metadata": {
    "colab": {},
    "colab_type": "code",
    "id": "QRGS8L0iVqAG"
   },
   "outputs": [
    {
     "data": {
      "text/plain": [
       "1448    Twentieth Century Fox Film Corporation\n",
       "1448                   Four By Two Productions\n",
       "Name: production_companies, dtype: object"
      ]
     },
     "execution_count": 131,
     "metadata": {},
     "output_type": "execute_result"
    }
   ],
   "source": [
    "# скопировали датафрейм\n",
    "ddf24 = data_sm_adv.copy()\n",
    "\n",
    "# извлекли строки из списка и поместили их в ту же колонку\n",
    "ddf24['original_title'] = ddf24['original_title'].apply(lambda x: x[0])\n",
    "\n",
    "# добавили колонку с длинной названия фильма\n",
    "ddf24['len_original_title'] = ddf24['original_title'].apply(lambda x: len(x))\n",
    "\n",
    "# подготовили датафрейм и колонку к анализу\n",
    "ddf24 = ddf24.explode('production_companies')\n",
    "ddf24['production_companies'] = ddf24['production_companies'].apply(\n",
    "    lambda x: x.replace(x, 'WB') if 'Warner Bros' in x else x)\n",
    "# спорное утверждение по заданию нов треде эксперт советовал сделать \n",
    "# именно так:\n",
    "ddf24[ddf24['len_original_title'] == ddf24['len_original_title'].max()\n",
    "      ]['production_companies']"
   ]
  },
  {
   "cell_type": "markdown",
   "metadata": {
    "colab_type": "text",
    "id": "9G0hbvR7VqAK"
   },
   "source": [
    "# 25. Описание фильмов какой студии в среднем самые длинные по количеству слов?"
   ]
  },
  {
   "cell_type": "code",
   "execution_count": 132,
   "metadata": {
    "colab": {},
    "colab_type": "code",
    "id": "Ge2GsLNxVqAK"
   },
   "outputs": [],
   "source": [
    "# Ответ:(+)\n",
    "answers['25'] = 'Midnight Picture Show'"
   ]
  },
  {
   "cell_type": "code",
   "execution_count": 133,
   "metadata": {},
   "outputs": [
    {
     "data": {
      "text/plain": [
       "production_companies\n",
       "Midnight Picture Show    175.0\n",
       "Name: len_overview, dtype: float64"
      ]
     },
     "execution_count": 133,
     "metadata": {},
     "output_type": "execute_result"
    }
   ],
   "source": [
    "ddf25 = data_sm_adv.copy()\n",
    "ddf25['overview'] = ddf25['overview'].apply(lambda x: x[0])\n",
    "ddf25['len_overview'] = ddf25['overview'].apply(lambda x: x.split()).apply(len)\n",
    "ddf25 = ddf25.explode('production_companies')\n",
    "ddf25['production_companies'] = ddf25['production_companies'].apply(\n",
    "    lambda x: x.replace(x, 'WB') if 'Warner Bros' in x else x)\n",
    "ddf25 = ddf25.groupby('production_companies').len_overview.mean()\n",
    "ddf25[ddf25 == ddf25.max()]                                             \n",
    "                                                "
   ]
  },
  {
   "cell_type": "markdown",
   "metadata": {
    "colab_type": "text",
    "id": "FJ1AFt90VqAP"
   },
   "source": [
    "# 26. Какие фильмы входят в 1 процент лучших по рейтингу? \n",
    "по vote_average"
   ]
  },
  {
   "cell_type": "code",
   "execution_count": 144,
   "metadata": {},
   "outputs": [],
   "source": [
    "# Ответ:(+)\n",
    "answers['26'] = 'Inside Out, The Dark Knight, 12 Years a Slave'"
   ]
  },
  {
   "cell_type": "code",
   "execution_count": 135,
   "metadata": {
    "colab": {},
    "colab_type": "code",
    "id": "8qmJVq4CVqAQ"
   },
   "outputs": [
    {
     "data": {
      "text/plain": [
       "9                                          [Inside Out]\n",
       "34                                               [Room]\n",
       "118                                      [Interstellar]\n",
       "119                           [Guardians of the Galaxy]\n",
       "125                                [The Imitation Game]\n",
       "128                                         [Gone Girl]\n",
       "138                          [The Grand Budapest Hotel]\n",
       "370                                         [Inception]\n",
       "599                                   [The Dark Knight]\n",
       "872                                       [The Pianist]\n",
       "1081    [The Lord of the Rings: The Return of the King]\n",
       "1183                          [The Wolf of Wall Street]\n",
       "1191                                 [12 Years a Slave]\n",
       "1800                                          [Memento]\n",
       "Name: original_title, dtype: object"
      ]
     },
     "execution_count": 135,
     "metadata": {},
     "output_type": "execute_result"
    }
   ],
   "source": [
    "ddf26 = data_sm_adv.copy()\n",
    "ddf26.original_title[ddf26.vote_average.quantile(.99) < ddf26.vote_average]"
   ]
  },
  {
   "cell_type": "markdown",
   "metadata": {
    "colab_type": "text",
    "id": "MdXsUXbCVqAV"
   },
   "source": [
    "# 27. Какие актеры чаще всего снимаются в одном фильме вместе?\n"
   ]
  },
  {
   "cell_type": "code",
   "execution_count": 145,
   "metadata": {},
   "outputs": [],
   "source": [
    "# Ответ:(+)\n",
    "answers['27'] = 'Daniel Radcliffe & Rupert Grint'"
   ]
  },
  {
   "cell_type": "code",
   "execution_count": 137,
   "metadata": {},
   "outputs": [
    {
     "data": {
      "text/plain": [
       "[(('Daniel Radcliffe', 'Rupert Grint'), 8),\n",
       " (('Daniel Radcliffe', 'Emma Watson'), 8),\n",
       " (('Rupert Grint', 'Emma Watson'), 7),\n",
       " (('Ben Stiller', 'Owen Wilson'), 6),\n",
       " (('Johnny Depp', 'Helena Bonham Carter'), 6)]"
      ]
     },
     "execution_count": 137,
     "metadata": {},
     "output_type": "execute_result"
    }
   ],
   "source": [
    "ddf27 = data_sm_adv.copy()\n",
    "unique_casts = ddf27.explode('cast')['cast'].unique()\n",
    "ddf27 = ddf27[['imdb_id','cast']]\n",
    "\n",
    "def megalo_func(x):    \n",
    "    lst = []\n",
    "    for i in (combinations(x, 2)):\n",
    "        lst.append(i)\n",
    "    \n",
    "    return lst\n",
    "\n",
    "ddf27['coupls'] = ddf27['cast'].apply(megalo_func)           \n",
    "#Counter(data.cast_comb.values.sum()).most_common(5)\n",
    "\n",
    "Counter(ddf27['coupls'].values.sum()).most_common(5)\n"
   ]
  },
  {
   "cell_type": "markdown",
   "metadata": {
    "colab_type": "text",
    "id": "4ymnxEVoVqAW"
   },
   "source": [
    "ВАРИАНТ 2"
   ]
  },
  {
   "cell_type": "markdown",
   "metadata": {
    "colab_type": "text",
    "id": "U0nONFnGVqAX"
   },
   "source": [
    "# Submission"
   ]
  },
  {
   "cell_type": "code",
   "execution_count": 146,
   "metadata": {
    "colab": {},
    "colab_type": "code",
    "id": "IfcaRO9-VqAX",
    "outputId": "0f132912-32bb-4196-c98c-abfbc4ad5a5f"
   },
   "outputs": [
    {
     "data": {
      "text/plain": [
       "{'1': 'Pirates of the Caribbean: On Stranger Tides (tt1298650)',\n",
       " '2': 'Gods and Generals (tt0279111)',\n",
       " '3': 'Winnie the Pooh (tt1449283)',\n",
       " '4': '110',\n",
       " '5': '107',\n",
       " '6': 'Avatar (tt0499549)',\n",
       " '7': 'The Lone Ranger (tt1210819)',\n",
       " '8': '1478',\n",
       " '9': 'The Dark Knight (tt0468569)',\n",
       " '10': 'The Lone Ranger (tt1210819)',\n",
       " '11': 'Drama',\n",
       " '12': 'Drama',\n",
       " '13': 'Peter Jackson',\n",
       " '14': 'Robert Rodriguez',\n",
       " '15': 'Chris Hemsworth',\n",
       " '16': 'Matt Damon',\n",
       " '17': 'Action',\n",
       " '18': 'K-19: The Widowmaker',\n",
       " '19': '2015',\n",
       " '20': '2014',\n",
       " '21': 'September',\n",
       " '22': '450',\n",
       " '23': 'Peter Jackson',\n",
       " '24': 'Four By Two Productions',\n",
       " '25': 'Midnight Picture Show',\n",
       " '26': 'Inside Out, The Dark Knight, 12 Years a Slave',\n",
       " '27': 'Daniel Radcliffe & Rupert Grint'}"
      ]
     },
     "execution_count": 146,
     "metadata": {},
     "output_type": "execute_result"
    }
   ],
   "source": [
    "# в конце можно посмотреть свои ответы к каждому вопросу\n",
    "answers"
   ]
  },
  {
   "cell_type": "code",
   "execution_count": 147,
   "metadata": {
    "colab": {},
    "colab_type": "code",
    "id": "SiRmHPl8VqAd"
   },
   "outputs": [
    {
     "data": {
      "text/plain": [
       "27"
      ]
     },
     "execution_count": 147,
     "metadata": {},
     "output_type": "execute_result"
    }
   ],
   "source": [
    "# и убедиться что ни чего не пропустил)\n",
    "len(answers)"
   ]
  },
  {
   "cell_type": "code",
   "execution_count": null,
   "metadata": {},
   "outputs": [],
   "source": []
  }
 ],
 "metadata": {
  "colab": {
   "name": "Copy of [SF-DST] Movies IMBD v4.1 TEMPLATE.ipynb",
   "provenance": []
  },
  "kernelspec": {
   "display_name": "Python 3",
   "language": "python",
   "name": "python3"
  },
  "language_info": {
   "codemirror_mode": {
    "name": "ipython",
    "version": 3
   },
   "file_extension": ".py",
   "mimetype": "text/x-python",
   "name": "python",
   "nbconvert_exporter": "python",
   "pygments_lexer": "ipython3",
   "version": "3.8.5"
  },
  "toc": {
   "base_numbering": 1,
   "nav_menu": {},
   "number_sections": false,
   "sideBar": true,
   "skip_h1_title": false,
   "title_cell": "Table of Contents",
   "title_sidebar": "Contents",
   "toc_cell": false,
   "toc_position": {
    "height": "calc(100% - 180px)",
    "left": "10px",
    "top": "150px",
    "width": "194.188px"
   },
   "toc_section_display": true,
   "toc_window_display": true
  }
 },
 "nbformat": 4,
 "nbformat_minor": 1
}
