{
 "metadata": {
  "language_info": {
   "codemirror_mode": {
    "name": "ipython",
    "version": 3
   },
   "file_extension": ".py",
   "mimetype": "text/x-python",
   "name": "python",
   "nbconvert_exporter": "python",
   "pygments_lexer": "ipython3",
   "version": "3.9.2"
  },
  "orig_nbformat": 2,
  "kernelspec": {
   "name": "python392jvsc74a57bd0bac16dbcc82b0790a4599c837c84a2e33a151e386bfea43f35115596aaf23949",
   "display_name": "Python 3.9.2 64-bit"
  }
 },
 "nbformat": 4,
 "nbformat_minor": 2,
 "cells": [
  {
   "source": [
    "## Импорт библиотек и исходных данных"
   ],
   "cell_type": "markdown",
   "metadata": {}
  },
  {
   "cell_type": "code",
   "execution_count": 1,
   "metadata": {},
   "outputs": [],
   "source": [
    "import pandas as pd\n",
    "import numpy as np  \n"
   ]
  },
  {
   "cell_type": "code",
   "execution_count": 2,
   "metadata": {},
   "outputs": [],
   "source": [
    "log = pd.read_csv('log.csv', header=None)\n",
    "users = pd.read_csv('users.csv', encoding='KOI8-R', sep = \"\\t\")"
   ]
  },
  {
   "source": [
    "\n",
    "## Пользовательские функции"
   ],
   "cell_type": "markdown",
   "metadata": {}
  },
  {
   "cell_type": "code",
   "execution_count": 3,
   "metadata": {},
   "outputs": [],
   "source": [
    "def user_id_correct(s):\n",
    "    if 'Запись пользователя № - ' in s:\n",
    "        s = s.replace('Запись пользователя № - ','')\n",
    "        return(s)\n",
    "    if '#error' in s:\n",
    "        s = \"\"\n",
    "        return(s)"
   ]
  },
  {
   "source": [
    "## Предобработка данных"
   ],
   "cell_type": "markdown",
   "metadata": {}
  },
  {
   "source": [],
   "cell_type": "markdown",
   "metadata": {}
  },
  {
   "cell_type": "code",
   "execution_count": 4,
   "metadata": {},
   "outputs": [],
   "source": [
    "#  Переименование колонок\n",
    "\n",
    "log.columns = ['user_id', 'time', 'bet', 'win']\n",
    "users.columns = ['user_id', 'email', 'geo']\n",
    "log.user_id = log.user_id.apply(user_id_correct)\n",
    "\n"
   ]
  },
  {
   "cell_type": "code",
   "execution_count": 5,
   "metadata": {},
   "outputs": [],
   "source": [
    "log.time = log.time.apply(lambda t: t if pd.isna(t) else str(t).replace('[',''))\n",
    "log_copy = log.copy()"
   ]
  },
  {
   "cell_type": "code",
   "execution_count": 6,
   "metadata": {},
   "outputs": [],
   "source": [
    "log = log[log.user_id != '']"
   ]
  },
  {
   "cell_type": "code",
   "execution_count": 7,
   "metadata": {},
   "outputs": [
    {
     "output_type": "execute_result",
     "data": {
      "text/plain": [
       "      user_id                 time      bet     win\n",
       "0    user_919  2019-01-01 14:06:51      NaN     NaN\n",
       "1    user_973  2019-01-01 14:51:16      NaN     NaN\n",
       "2    user_903  2019-01-01 16:31:16      NaN     NaN\n",
       "3    user_954  2019-01-01 17:17:51      NaN     NaN\n",
       "4    user_954  2019-01-01 21:31:18      NaN     NaN\n",
       "..        ...                  ...      ...     ...\n",
       "991  user_965  2019-04-20 12:55:41    800.0  6927.0\n",
       "992  user_967  2019-04-20 14:59:36  10154.0     NaN\n",
       "993  user_973  2019-04-20 17:09:56  10254.0     NaN\n",
       "994  user_977  2019-04-20 18:10:07  10354.0     NaN\n",
       "995  user_984   2019-04-20 9:59:58   9754.0     NaN\n",
       "\n",
       "[985 rows x 4 columns]"
      ],
      "text/html": "<div>\n<style scoped>\n    .dataframe tbody tr th:only-of-type {\n        vertical-align: middle;\n    }\n\n    .dataframe tbody tr th {\n        vertical-align: top;\n    }\n\n    .dataframe thead th {\n        text-align: right;\n    }\n</style>\n<table border=\"1\" class=\"dataframe\">\n  <thead>\n    <tr style=\"text-align: right;\">\n      <th></th>\n      <th>user_id</th>\n      <th>time</th>\n      <th>bet</th>\n      <th>win</th>\n    </tr>\n  </thead>\n  <tbody>\n    <tr>\n      <th>0</th>\n      <td>user_919</td>\n      <td>2019-01-01 14:06:51</td>\n      <td>NaN</td>\n      <td>NaN</td>\n    </tr>\n    <tr>\n      <th>1</th>\n      <td>user_973</td>\n      <td>2019-01-01 14:51:16</td>\n      <td>NaN</td>\n      <td>NaN</td>\n    </tr>\n    <tr>\n      <th>2</th>\n      <td>user_903</td>\n      <td>2019-01-01 16:31:16</td>\n      <td>NaN</td>\n      <td>NaN</td>\n    </tr>\n    <tr>\n      <th>3</th>\n      <td>user_954</td>\n      <td>2019-01-01 17:17:51</td>\n      <td>NaN</td>\n      <td>NaN</td>\n    </tr>\n    <tr>\n      <th>4</th>\n      <td>user_954</td>\n      <td>2019-01-01 21:31:18</td>\n      <td>NaN</td>\n      <td>NaN</td>\n    </tr>\n    <tr>\n      <th>...</th>\n      <td>...</td>\n      <td>...</td>\n      <td>...</td>\n      <td>...</td>\n    </tr>\n    <tr>\n      <th>991</th>\n      <td>user_965</td>\n      <td>2019-04-20 12:55:41</td>\n      <td>800.0</td>\n      <td>6927.0</td>\n    </tr>\n    <tr>\n      <th>992</th>\n      <td>user_967</td>\n      <td>2019-04-20 14:59:36</td>\n      <td>10154.0</td>\n      <td>NaN</td>\n    </tr>\n    <tr>\n      <th>993</th>\n      <td>user_973</td>\n      <td>2019-04-20 17:09:56</td>\n      <td>10254.0</td>\n      <td>NaN</td>\n    </tr>\n    <tr>\n      <th>994</th>\n      <td>user_977</td>\n      <td>2019-04-20 18:10:07</td>\n      <td>10354.0</td>\n      <td>NaN</td>\n    </tr>\n    <tr>\n      <th>995</th>\n      <td>user_984</td>\n      <td>2019-04-20 9:59:58</td>\n      <td>9754.0</td>\n      <td>NaN</td>\n    </tr>\n  </tbody>\n</table>\n<p>985 rows × 4 columns</p>\n</div>"
     },
     "metadata": {},
     "execution_count": 7
    }
   ],
   "source": [
    "log"
   ]
  },
  {
   "cell_type": "code",
   "execution_count": 8,
   "metadata": {},
   "outputs": [
    {
     "output_type": "execute_result",
     "data": {
      "text/plain": [
       "     user_id                     email          geo\n",
       "0   User_943       Accumanst@gmail.com       Ижевск\n",
       "1   User_908         Advismowr@mail.ru       Ижевск\n",
       "2   User_962           Anachso@ukr.net    Краснодар\n",
       "3   User_973          Antecia@inbox.ru        Пермь\n",
       "4   User_902        Balliaryva@ukr.net          NaN\n",
       "..       ...                       ...          ...\n",
       "95  User_959  UpdatesCurious@yahoo.com       Тюмень\n",
       "96  User_901        V2artierso@mail.ru  Арзангелтск\n",
       "97  User_970          Vashoterlo@bk.ru      Воронеж\n",
       "98  User_965       Visuareda@yahoo.com      Воронеж\n",
       "99  User_921              Aavast@ya.ru       Ижевск\n",
       "\n",
       "[100 rows x 3 columns]"
      ],
      "text/html": "<div>\n<style scoped>\n    .dataframe tbody tr th:only-of-type {\n        vertical-align: middle;\n    }\n\n    .dataframe tbody tr th {\n        vertical-align: top;\n    }\n\n    .dataframe thead th {\n        text-align: right;\n    }\n</style>\n<table border=\"1\" class=\"dataframe\">\n  <thead>\n    <tr style=\"text-align: right;\">\n      <th></th>\n      <th>user_id</th>\n      <th>email</th>\n      <th>geo</th>\n    </tr>\n  </thead>\n  <tbody>\n    <tr>\n      <th>0</th>\n      <td>User_943</td>\n      <td>Accumanst@gmail.com</td>\n      <td>Ижевск</td>\n    </tr>\n    <tr>\n      <th>1</th>\n      <td>User_908</td>\n      <td>Advismowr@mail.ru</td>\n      <td>Ижевск</td>\n    </tr>\n    <tr>\n      <th>2</th>\n      <td>User_962</td>\n      <td>Anachso@ukr.net</td>\n      <td>Краснодар</td>\n    </tr>\n    <tr>\n      <th>3</th>\n      <td>User_973</td>\n      <td>Antecia@inbox.ru</td>\n      <td>Пермь</td>\n    </tr>\n    <tr>\n      <th>4</th>\n      <td>User_902</td>\n      <td>Balliaryva@ukr.net</td>\n      <td>NaN</td>\n    </tr>\n    <tr>\n      <th>...</th>\n      <td>...</td>\n      <td>...</td>\n      <td>...</td>\n    </tr>\n    <tr>\n      <th>95</th>\n      <td>User_959</td>\n      <td>UpdatesCurious@yahoo.com</td>\n      <td>Тюмень</td>\n    </tr>\n    <tr>\n      <th>96</th>\n      <td>User_901</td>\n      <td>V2artierso@mail.ru</td>\n      <td>Арзангелтск</td>\n    </tr>\n    <tr>\n      <th>97</th>\n      <td>User_970</td>\n      <td>Vashoterlo@bk.ru</td>\n      <td>Воронеж</td>\n    </tr>\n    <tr>\n      <th>98</th>\n      <td>User_965</td>\n      <td>Visuareda@yahoo.com</td>\n      <td>Воронеж</td>\n    </tr>\n    <tr>\n      <th>99</th>\n      <td>User_921</td>\n      <td>Aavast@ya.ru</td>\n      <td>Ижевск</td>\n    </tr>\n  </tbody>\n</table>\n<p>100 rows × 3 columns</p>\n</div>"
     },
     "metadata": {},
     "execution_count": 8
    }
   ],
   "source": [
    "users"
   ]
  },
  {
   "source": [
    "## Какие вопросы остались?"
   ],
   "cell_type": "markdown",
   "metadata": {}
  },
  {
   "source": [
    "* Сколько раз человеку надо прийти, чтобы сделать ставку?\n",
    "* Каков средний выигрыш в процентах?\n",
    "* Каков баланс по каждому пользователю?\n",
    "* Какие города самые выгодные?\n",
    "* В каких городах самая высокая ставка?\n",
    "* Сколько в среднем времени проходит от первого посещения сайта до первой попытки?"
   ],
   "cell_type": "markdown",
   "metadata": {}
  },
  {
   "source": [
    "## 12.1 Пропущенные значения"
   ],
   "cell_type": "markdown",
   "metadata": {}
  },
  {
   "source": [
    "### Задание 1\n",
    "Посчитайте количество пропусков в столбце time. Метод isna() есть не только у DataFrame, но и у Series. Это значит, что применять его можно не только ко всей таблице, но и к каждому столбцу отдельно.\n",
    "Примените этот метод, затем просуммируйте количество строк в итоговом столбце. Используйте оригинальный датасет log.csv. Ответ введите в поле ниже.\n"
   ],
   "cell_type": "markdown",
   "metadata": {}
  },
  {
   "cell_type": "code",
   "execution_count": 9,
   "metadata": {},
   "outputs": [
    {
     "output_type": "execute_result",
     "data": {
      "text/plain": [
       "15"
      ]
     },
     "metadata": {},
     "execution_count": 9
    }
   ],
   "source": [
    "log_copy.time.isna().sum()"
   ]
  },
  {
   "cell_type": "code",
   "execution_count": 10,
   "metadata": {},
   "outputs": [],
   "source": [
    "log_back_up = log_copy.copy()"
   ]
  },
  {
   "source": [
    "### Задание 2\n",
    "Удалите все столбцы, где есть пропуски. Запишите в поле, сколько осталось столбцов в данных после этого.\n",
    "Используйте оригинальный датасет log.csv.\n"
   ],
   "cell_type": "markdown",
   "metadata": {}
  },
  {
   "cell_type": "code",
   "execution_count": 11,
   "metadata": {},
   "outputs": [
    {
     "output_type": "execute_result",
     "data": {
      "text/plain": [
       "      user_id\n",
       "0    user_919\n",
       "1    user_973\n",
       "2    user_903\n",
       "3    user_954\n",
       "4    user_954\n",
       "..        ...\n",
       "995  user_984\n",
       "996          \n",
       "997          \n",
       "998          \n",
       "999          \n",
       "\n",
       "[1000 rows x 1 columns]"
      ],
      "text/html": "<div>\n<style scoped>\n    .dataframe tbody tr th:only-of-type {\n        vertical-align: middle;\n    }\n\n    .dataframe tbody tr th {\n        vertical-align: top;\n    }\n\n    .dataframe thead th {\n        text-align: right;\n    }\n</style>\n<table border=\"1\" class=\"dataframe\">\n  <thead>\n    <tr style=\"text-align: right;\">\n      <th></th>\n      <th>user_id</th>\n    </tr>\n  </thead>\n  <tbody>\n    <tr>\n      <th>0</th>\n      <td>user_919</td>\n    </tr>\n    <tr>\n      <th>1</th>\n      <td>user_973</td>\n    </tr>\n    <tr>\n      <th>2</th>\n      <td>user_903</td>\n    </tr>\n    <tr>\n      <th>3</th>\n      <td>user_954</td>\n    </tr>\n    <tr>\n      <th>4</th>\n      <td>user_954</td>\n    </tr>\n    <tr>\n      <th>...</th>\n      <td>...</td>\n    </tr>\n    <tr>\n      <th>995</th>\n      <td>user_984</td>\n    </tr>\n    <tr>\n      <th>996</th>\n      <td></td>\n    </tr>\n    <tr>\n      <th>997</th>\n      <td></td>\n    </tr>\n    <tr>\n      <th>998</th>\n      <td></td>\n    </tr>\n    <tr>\n      <th>999</th>\n      <td></td>\n    </tr>\n  </tbody>\n</table>\n<p>1000 rows × 1 columns</p>\n</div>"
     },
     "metadata": {},
     "execution_count": 11
    }
   ],
   "source": [
    "log_copy.dropna(axis=1, subset=range(999))\n"
   ]
  },
  {
   "source": [
    "### Задание 3\n",
    "\n",
    "Удалите все строки, где есть пропуски. Запишите в поле, сколько осталось строк в данных после этого.\n",
    "\n",
    "Используйте оригинальный датасет log.csv."
   ],
   "cell_type": "markdown",
   "metadata": {}
  },
  {
   "source": [
    "log_copy.dropna(axis=0, subset=['user_id','time','bet','win'])"
   ],
   "cell_type": "code",
   "metadata": {},
   "execution_count": 12,
   "outputs": [
    {
     "output_type": "execute_result",
     "data": {
      "text/plain": [
       "      user_id                 time        bet        win\n",
       "14   user_917   2019-01-02 8:57:36   145732.0  1987653.0\n",
       "29   user_942  2019-01-04 13:59:42  1678321.0  9876543.0\n",
       "151  user_982  2019-01-16 21:54:22      100.0     4749.0\n",
       "189  user_964  2019-01-21 18:34:44      200.0     4667.0\n",
       "205  user_931   2019-01-22 5:26:59      300.0     4319.0\n",
       "..        ...                  ...        ...        ...\n",
       "967  user_975  2019-04-19 22:25:15     1000.0     6108.0\n",
       "971  user_912  2019-04-20 10:35:49    10554.0    31799.0\n",
       "972  user_926  2019-04-20 10:35:50    10354.0    30244.0\n",
       "976  user_970  2019-04-20 10:35:54    10354.0    30691.0\n",
       "991  user_965  2019-04-20 12:55:41      800.0     6927.0\n",
       "\n",
       "[133 rows x 4 columns]"
      ],
      "text/html": "<div>\n<style scoped>\n    .dataframe tbody tr th:only-of-type {\n        vertical-align: middle;\n    }\n\n    .dataframe tbody tr th {\n        vertical-align: top;\n    }\n\n    .dataframe thead th {\n        text-align: right;\n    }\n</style>\n<table border=\"1\" class=\"dataframe\">\n  <thead>\n    <tr style=\"text-align: right;\">\n      <th></th>\n      <th>user_id</th>\n      <th>time</th>\n      <th>bet</th>\n      <th>win</th>\n    </tr>\n  </thead>\n  <tbody>\n    <tr>\n      <th>14</th>\n      <td>user_917</td>\n      <td>2019-01-02 8:57:36</td>\n      <td>145732.0</td>\n      <td>1987653.0</td>\n    </tr>\n    <tr>\n      <th>29</th>\n      <td>user_942</td>\n      <td>2019-01-04 13:59:42</td>\n      <td>1678321.0</td>\n      <td>9876543.0</td>\n    </tr>\n    <tr>\n      <th>151</th>\n      <td>user_982</td>\n      <td>2019-01-16 21:54:22</td>\n      <td>100.0</td>\n      <td>4749.0</td>\n    </tr>\n    <tr>\n      <th>189</th>\n      <td>user_964</td>\n      <td>2019-01-21 18:34:44</td>\n      <td>200.0</td>\n      <td>4667.0</td>\n    </tr>\n    <tr>\n      <th>205</th>\n      <td>user_931</td>\n      <td>2019-01-22 5:26:59</td>\n      <td>300.0</td>\n      <td>4319.0</td>\n    </tr>\n    <tr>\n      <th>...</th>\n      <td>...</td>\n      <td>...</td>\n      <td>...</td>\n      <td>...</td>\n    </tr>\n    <tr>\n      <th>967</th>\n      <td>user_975</td>\n      <td>2019-04-19 22:25:15</td>\n      <td>1000.0</td>\n      <td>6108.0</td>\n    </tr>\n    <tr>\n      <th>971</th>\n      <td>user_912</td>\n      <td>2019-04-20 10:35:49</td>\n      <td>10554.0</td>\n      <td>31799.0</td>\n    </tr>\n    <tr>\n      <th>972</th>\n      <td>user_926</td>\n      <td>2019-04-20 10:35:50</td>\n      <td>10354.0</td>\n      <td>30244.0</td>\n    </tr>\n    <tr>\n      <th>976</th>\n      <td>user_970</td>\n      <td>2019-04-20 10:35:54</td>\n      <td>10354.0</td>\n      <td>30691.0</td>\n    </tr>\n    <tr>\n      <th>991</th>\n      <td>user_965</td>\n      <td>2019-04-20 12:55:41</td>\n      <td>800.0</td>\n      <td>6927.0</td>\n    </tr>\n  </tbody>\n</table>\n<p>133 rows × 4 columns</p>\n</div>"
     },
     "metadata": {},
     "execution_count": 12
    }
   ]
  },
  {
   "source": [
    "## 12.2. Дубли"
   ],
   "cell_type": "markdown",
   "metadata": {}
  },
  {
   "source": [
    "### Задание 1\n",
    "\n",
    "Удалите дубли среди столбцов user_id и time. Запишите в поле ниже, сколько осталось строк после удаления дублей.\n",
    "\n",
    "Используйте оригинальный датасет log.csv."
   ],
   "cell_type": "markdown",
   "metadata": {}
  },
  {
   "cell_type": "code",
   "execution_count": 13,
   "metadata": {},
   "outputs": [
    {
     "output_type": "execute_result",
     "data": {
      "text/plain": [
       "      user_id                 time      bet     win\n",
       "0    user_919  2019-01-01 14:06:51      NaN     NaN\n",
       "1    user_973  2019-01-01 14:51:16      NaN     NaN\n",
       "2    user_903  2019-01-01 16:31:16      NaN     NaN\n",
       "3    user_954  2019-01-01 17:17:51      NaN     NaN\n",
       "4    user_954  2019-01-01 21:31:18      NaN     NaN\n",
       "..        ...                  ...      ...     ...\n",
       "991  user_965  2019-04-20 12:55:41    800.0  6927.0\n",
       "992  user_967  2019-04-20 14:59:36  10154.0     NaN\n",
       "993  user_973  2019-04-20 17:09:56  10254.0     NaN\n",
       "994  user_977  2019-04-20 18:10:07  10354.0     NaN\n",
       "995  user_984   2019-04-20 9:59:58   9754.0     NaN\n",
       "\n",
       "[986 rows x 4 columns]"
      ],
      "text/html": "<div>\n<style scoped>\n    .dataframe tbody tr th:only-of-type {\n        vertical-align: middle;\n    }\n\n    .dataframe tbody tr th {\n        vertical-align: top;\n    }\n\n    .dataframe thead th {\n        text-align: right;\n    }\n</style>\n<table border=\"1\" class=\"dataframe\">\n  <thead>\n    <tr style=\"text-align: right;\">\n      <th></th>\n      <th>user_id</th>\n      <th>time</th>\n      <th>bet</th>\n      <th>win</th>\n    </tr>\n  </thead>\n  <tbody>\n    <tr>\n      <th>0</th>\n      <td>user_919</td>\n      <td>2019-01-01 14:06:51</td>\n      <td>NaN</td>\n      <td>NaN</td>\n    </tr>\n    <tr>\n      <th>1</th>\n      <td>user_973</td>\n      <td>2019-01-01 14:51:16</td>\n      <td>NaN</td>\n      <td>NaN</td>\n    </tr>\n    <tr>\n      <th>2</th>\n      <td>user_903</td>\n      <td>2019-01-01 16:31:16</td>\n      <td>NaN</td>\n      <td>NaN</td>\n    </tr>\n    <tr>\n      <th>3</th>\n      <td>user_954</td>\n      <td>2019-01-01 17:17:51</td>\n      <td>NaN</td>\n      <td>NaN</td>\n    </tr>\n    <tr>\n      <th>4</th>\n      <td>user_954</td>\n      <td>2019-01-01 21:31:18</td>\n      <td>NaN</td>\n      <td>NaN</td>\n    </tr>\n    <tr>\n      <th>...</th>\n      <td>...</td>\n      <td>...</td>\n      <td>...</td>\n      <td>...</td>\n    </tr>\n    <tr>\n      <th>991</th>\n      <td>user_965</td>\n      <td>2019-04-20 12:55:41</td>\n      <td>800.0</td>\n      <td>6927.0</td>\n    </tr>\n    <tr>\n      <th>992</th>\n      <td>user_967</td>\n      <td>2019-04-20 14:59:36</td>\n      <td>10154.0</td>\n      <td>NaN</td>\n    </tr>\n    <tr>\n      <th>993</th>\n      <td>user_973</td>\n      <td>2019-04-20 17:09:56</td>\n      <td>10254.0</td>\n      <td>NaN</td>\n    </tr>\n    <tr>\n      <th>994</th>\n      <td>user_977</td>\n      <td>2019-04-20 18:10:07</td>\n      <td>10354.0</td>\n      <td>NaN</td>\n    </tr>\n    <tr>\n      <th>995</th>\n      <td>user_984</td>\n      <td>2019-04-20 9:59:58</td>\n      <td>9754.0</td>\n      <td>NaN</td>\n    </tr>\n  </tbody>\n</table>\n<p>986 rows × 4 columns</p>\n</div>"
     },
     "metadata": {},
     "execution_count": 13
    }
   ],
   "source": [
    "log_copy.drop_duplicates(subset=['user_id', 'time'])"
   ]
  },
  {
   "source": [
    "## 12.3 Преобразование к datetime"
   ],
   "cell_type": "markdown",
   "metadata": {}
  },
  {
   "source": [
    "Уберите лишний символ, преобразуйте признак time к datetime. После этого найдите наибольшую дату и выведите ее без времени.\n",
    "\n",
    "Подсказка: можно применить метод max() к получившемуся столбцу со временем.\n",
    "\n",
    "Не забудьте избавиться от пропусков.\n",
    "\n",
    "Запишите ответ в формате \"YYYY-MM-DD\"."
   ],
   "cell_type": "markdown",
   "metadata": {}
  },
  {
   "cell_type": "code",
   "execution_count": 14,
   "metadata": {},
   "outputs": [],
   "source": [
    "log_copy.time = pd.to_datetime(log_copy.time, format='%Y%m%d %H:%M:%S')"
   ]
  },
  {
   "cell_type": "code",
   "execution_count": 15,
   "metadata": {},
   "outputs": [
    {
     "output_type": "execute_result",
     "data": {
      "text/plain": [
       "'2019-04-20'"
      ]
     },
     "metadata": {},
     "execution_count": 15
    }
   ],
   "source": [
    "log_copy.time.max().strftime('%Y-%m-%d')        "
   ]
  },
  {
   "cell_type": "code",
   "execution_count": 16,
   "metadata": {},
   "outputs": [],
   "source": [
    "# Эталонный код\n",
    "\n",
    "# import pandas as pd \n",
    "# log = pd.read_csv(\"log.csv\")  \n",
    "# log = log.dropna()  \n",
    "# log.columns = ['user_id', 'time', 'bet', 'win']  \n",
    "# log['time'] = log['time'].apply(lambda x: x[1:])  \n",
    "# log['time'] = pd.to_datetime(log['time'])  \n",
    "# log['time'].head()"
   ]
  },
  {
   "source": [
    "## 12.4 Извлечение признаков времени"
   ],
   "cell_type": "markdown",
   "metadata": {}
  },
  {
   "source": [
    "### Задание 1\n",
    "Используйте оригинальные данные log.csv, столбец time.\n",
    "\n",
    "Подсказка: можно использовать value_counts().\n",
    "\n",
    "Найдите минуту, которая встречалась в данных чаще всего. Введите ответ в поле ниже."
   ],
   "cell_type": "markdown",
   "metadata": {}
  },
  {
   "cell_type": "code",
   "execution_count": 17,
   "metadata": {},
   "outputs": [
    {
     "output_type": "execute_result",
     "data": {
      "text/plain": [
       "25"
      ]
     },
     "metadata": {},
     "execution_count": 17
    }
   ],
   "source": [
    "log_copy.time.dt.minute.value_counts(ascending=False).iloc[0]"
   ]
  },
  {
   "source": [
    "### Задание 2\n",
    "\n",
    "Используйте оригинальные данные log.csv, столбец time.\n",
    "\n",
    "Подсказка: можно использовать value_counts().\n",
    "\n",
    "Найдите месяц, который встречался в данных реже всего. Введите ответ в поле ниже.\n"
   ],
   "cell_type": "markdown",
   "metadata": {}
  },
  {
   "cell_type": "code",
   "execution_count": 18,
   "metadata": {},
   "outputs": [
    {
     "output_type": "execute_result",
     "data": {
      "text/plain": [
       "1.0    292\n",
       "3.0    264\n",
       "2.0    259\n",
       "4.0    170\n",
       "Name: time, dtype: int64"
      ]
     },
     "metadata": {},
     "execution_count": 18
    }
   ],
   "source": [
    "log_copy.time.dt.month.value_counts(ascending=False)"
   ]
  },
  {
   "source": [
    "### Задание 3*\n",
    "\n",
    "Используйте оригинальные данные log.csv, столбец time.\n",
    "\n",
    "Подсказка: можно использовать sum().\n",
    "\n",
    "Посчитайте, сколько дней в данных являются выходными (то есть субботой или воскресеньем). Введите ответ в поле ниже.\n",
    "\n"
   ],
   "cell_type": "markdown",
   "metadata": {}
  },
  {
   "cell_type": "code",
   "execution_count": 19,
   "metadata": {},
   "outputs": [
    {
     "output_type": "execute_result",
     "data": {
      "text/plain": [
       "283"
      ]
     },
     "metadata": {},
     "execution_count": 19
    }
   ],
   "source": [
    "log_copy.time.dt.day_name().value_counts().loc[['Saturday','Sunday']].sum()"
   ]
  },
  {
   "source": [
    "### Задание 4*\n",
    "\n",
    "Используйте оригинальные данные log.csv, столбец time.\n",
    "\n",
    "Подсказка: можно использовать value_counts(). Кроме этого, потребуется написать функцию, которая преобразует дату во время дня.\n",
    "\n",
    "Договоримся, что с 0 до 5 часов - ночь, с 6 до 11 - утро, с 12 до 17 - день, с 18 до 23 - вечер.\n",
    "\n",
    "Важно: для выполнения задания вам нужно будет избавиться от пропусков только в столбце time. Вспомните, как избавиться от пропусков только по конкретному признаку.\n",
    "\n",
    "Посчитайте, какое время дня встречается в данных реже всего. Введите ответ в поле ниже: ночь, утро, день или вечер.\n",
    "\n"
   ],
   "cell_type": "markdown",
   "metadata": {}
  },
  {
   "cell_type": "code",
   "execution_count": 20,
   "metadata": {},
   "outputs": [
    {
     "output_type": "execute_result",
     "data": {
      "text/plain": [
       "(-0.023, 5.75]    265\n",
       "(5.75, 11.5]      253\n",
       "(11.5, 17.25]     240\n",
       "(17.25, 23.0]     227\n",
       "Name: time, dtype: int64"
      ]
     },
     "metadata": {},
     "execution_count": 20
    }
   ],
   "source": [
    "pd.cut(log_copy.dropna(subset = ['time']).time.dt.hour, bins=4).value_counts()"
   ]
  },
  {
   "source": [
    "## 12.5 Снова смотрим на пропуски"
   ],
   "cell_type": "markdown",
   "metadata": {}
  },
  {
   "source": [
    "### Задание 1\n",
    "\n",
    "Используйте оригинальный датасет log.csv. Результат запишите числом в поле ниже.\n",
    "\n",
    "Подсказка: можно использовать value_counts().\n",
    "\n",
    "Посчитайте, сколько раз люди приходили, но не делали ставок. Для этого заполните пропуски в столбце bet значением 0 и посчитайте количество таких значений."
   ],
   "cell_type": "markdown",
   "metadata": {}
  },
  {
   "cell_type": "code",
   "execution_count": 21,
   "metadata": {},
   "outputs": [
    {
     "output_type": "execute_result",
     "data": {
      "text/plain": [
       "      user_id                time      bet      win\n",
       "0    user_919 2019-01-01 14:06:51      NaN      NaN\n",
       "1    user_973 2019-01-01 14:51:16      NaN      NaN\n",
       "2    user_903 2019-01-01 16:31:16      NaN      NaN\n",
       "3    user_954 2019-01-01 17:17:51      NaN      NaN\n",
       "4    user_954 2019-01-01 21:31:18      NaN      NaN\n",
       "..        ...                 ...      ...      ...\n",
       "995  user_984 2019-04-20 09:59:58   9754.0      NaN\n",
       "996                           NaT  10054.0  29265.0\n",
       "997                           NaT  10454.0      NaN\n",
       "998                           NaT   1000.0      NaN\n",
       "999                           NaT  10754.0      NaN\n",
       "\n",
       "[1000 rows x 4 columns]"
      ],
      "text/html": "<div>\n<style scoped>\n    .dataframe tbody tr th:only-of-type {\n        vertical-align: middle;\n    }\n\n    .dataframe tbody tr th {\n        vertical-align: top;\n    }\n\n    .dataframe thead th {\n        text-align: right;\n    }\n</style>\n<table border=\"1\" class=\"dataframe\">\n  <thead>\n    <tr style=\"text-align: right;\">\n      <th></th>\n      <th>user_id</th>\n      <th>time</th>\n      <th>bet</th>\n      <th>win</th>\n    </tr>\n  </thead>\n  <tbody>\n    <tr>\n      <th>0</th>\n      <td>user_919</td>\n      <td>2019-01-01 14:06:51</td>\n      <td>NaN</td>\n      <td>NaN</td>\n    </tr>\n    <tr>\n      <th>1</th>\n      <td>user_973</td>\n      <td>2019-01-01 14:51:16</td>\n      <td>NaN</td>\n      <td>NaN</td>\n    </tr>\n    <tr>\n      <th>2</th>\n      <td>user_903</td>\n      <td>2019-01-01 16:31:16</td>\n      <td>NaN</td>\n      <td>NaN</td>\n    </tr>\n    <tr>\n      <th>3</th>\n      <td>user_954</td>\n      <td>2019-01-01 17:17:51</td>\n      <td>NaN</td>\n      <td>NaN</td>\n    </tr>\n    <tr>\n      <th>4</th>\n      <td>user_954</td>\n      <td>2019-01-01 21:31:18</td>\n      <td>NaN</td>\n      <td>NaN</td>\n    </tr>\n    <tr>\n      <th>...</th>\n      <td>...</td>\n      <td>...</td>\n      <td>...</td>\n      <td>...</td>\n    </tr>\n    <tr>\n      <th>995</th>\n      <td>user_984</td>\n      <td>2019-04-20 09:59:58</td>\n      <td>9754.0</td>\n      <td>NaN</td>\n    </tr>\n    <tr>\n      <th>996</th>\n      <td></td>\n      <td>NaT</td>\n      <td>10054.0</td>\n      <td>29265.0</td>\n    </tr>\n    <tr>\n      <th>997</th>\n      <td></td>\n      <td>NaT</td>\n      <td>10454.0</td>\n      <td>NaN</td>\n    </tr>\n    <tr>\n      <th>998</th>\n      <td></td>\n      <td>NaT</td>\n      <td>1000.0</td>\n      <td>NaN</td>\n    </tr>\n    <tr>\n      <th>999</th>\n      <td></td>\n      <td>NaT</td>\n      <td>10754.0</td>\n      <td>NaN</td>\n    </tr>\n  </tbody>\n</table>\n<p>1000 rows × 4 columns</p>\n</div>"
     },
     "metadata": {},
     "execution_count": 21
    }
   ],
   "source": [
    "#log_copy = log_copy.bet.fillna(0).value_counts()\n",
    "log_copy"
   ]
  },
  {
   "source": [
    "### Задание 2\n",
    "\n",
    "Используйте оригинальный датасет log.csv. Проделайте с ним действия из задания 1, расположенного выше на этой странице, и из пункта \"Заполнение с помощью \n",
    "функции\".\n",
    "\n",
    "Посчитайте, сколько раз участники ставок проиграли деньги. То есть посчитайте количество строк, для которых в столбце win находится отрицательное значение."
   ],
   "cell_type": "markdown",
   "metadata": {}
  },
  {
   "cell_type": "code",
   "execution_count": 22,
   "metadata": {},
   "outputs": [
    {
     "output_type": "execute_result",
     "data": {
      "text/plain": [
       "5     -156789.0\n",
       "19     -98753.0\n",
       "67      -5000.0\n",
       "81    -123981.0\n",
       "92       -100.0\n",
       "         ...   \n",
       "994    -10354.0\n",
       "995     -9754.0\n",
       "997    -10454.0\n",
       "998     -1000.0\n",
       "999    -10754.0\n",
       "Name: win, Length: 347, dtype: float64"
      ]
     },
     "metadata": {},
     "execution_count": 22
    }
   ],
   "source": [
    "def fillna_win(row):\n",
    "# Нужно дописать \n",
    "   if pd.isna(row.win)==False:\n",
    "       return row.win\n",
    "   elif pd.isna(row.win)==True and pd.isna(row.bet)==True:\n",
    "       return 0\n",
    "   elif pd.isna(row.win)==True and pd.isna(row.bet)==False:\n",
    "       row.win = -(row.bet)\n",
    "       return row.win\n",
    "    \n",
    "\n",
    "new_win = log_copy.apply(lambda row: fillna_win(row), axis=1) \n",
    "log_copy.win = new_win\n",
    "log_copy[log_copy['win'] < 0].win"
   ]
  },
  {
   "source": [
    "## 12.6 Есть ли смысл играть?"
   ],
   "cell_type": "markdown",
   "metadata": {}
  },
  {
   "cell_type": "code",
   "execution_count": 23,
   "metadata": {},
   "outputs": [],
   "source": [
    "log_copy.bet = log_copy.bet.fillna(0)\n",
    "log_copy.win = log_copy.win.fillna(0)"
   ]
  },
  {
   "source": [
    "### Задание 1"
   ],
   "cell_type": "markdown",
   "metadata": {}
  },
  {
   "cell_type": "code",
   "execution_count": 24,
   "metadata": {},
   "outputs": [
    {
     "output_type": "execute_result",
     "data": {
      "text/plain": [
       "      user_id                time      bet      win\n",
       "0    user_919 2019-01-01 14:06:51      0.0      0.0\n",
       "1    user_973 2019-01-01 14:51:16      0.0      0.0\n",
       "2    user_903 2019-01-01 16:31:16      0.0      0.0\n",
       "3    user_954 2019-01-01 17:17:51      0.0      0.0\n",
       "4    user_954 2019-01-01 21:31:18      0.0      0.0\n",
       "..        ...                 ...      ...      ...\n",
       "995  user_984 2019-04-20 09:59:58   9754.0  -9754.0\n",
       "996                           NaT  10054.0  29265.0\n",
       "997                           NaT  10454.0 -10454.0\n",
       "998                           NaT   1000.0  -1000.0\n",
       "999                           NaT  10754.0 -10754.0\n",
       "\n",
       "[1000 rows x 4 columns]"
      ],
      "text/html": "<div>\n<style scoped>\n    .dataframe tbody tr th:only-of-type {\n        vertical-align: middle;\n    }\n\n    .dataframe tbody tr th {\n        vertical-align: top;\n    }\n\n    .dataframe thead th {\n        text-align: right;\n    }\n</style>\n<table border=\"1\" class=\"dataframe\">\n  <thead>\n    <tr style=\"text-align: right;\">\n      <th></th>\n      <th>user_id</th>\n      <th>time</th>\n      <th>bet</th>\n      <th>win</th>\n    </tr>\n  </thead>\n  <tbody>\n    <tr>\n      <th>0</th>\n      <td>user_919</td>\n      <td>2019-01-01 14:06:51</td>\n      <td>0.0</td>\n      <td>0.0</td>\n    </tr>\n    <tr>\n      <th>1</th>\n      <td>user_973</td>\n      <td>2019-01-01 14:51:16</td>\n      <td>0.0</td>\n      <td>0.0</td>\n    </tr>\n    <tr>\n      <th>2</th>\n      <td>user_903</td>\n      <td>2019-01-01 16:31:16</td>\n      <td>0.0</td>\n      <td>0.0</td>\n    </tr>\n    <tr>\n      <th>3</th>\n      <td>user_954</td>\n      <td>2019-01-01 17:17:51</td>\n      <td>0.0</td>\n      <td>0.0</td>\n    </tr>\n    <tr>\n      <th>4</th>\n      <td>user_954</td>\n      <td>2019-01-01 21:31:18</td>\n      <td>0.0</td>\n      <td>0.0</td>\n    </tr>\n    <tr>\n      <th>...</th>\n      <td>...</td>\n      <td>...</td>\n      <td>...</td>\n      <td>...</td>\n    </tr>\n    <tr>\n      <th>995</th>\n      <td>user_984</td>\n      <td>2019-04-20 09:59:58</td>\n      <td>9754.0</td>\n      <td>-9754.0</td>\n    </tr>\n    <tr>\n      <th>996</th>\n      <td></td>\n      <td>NaT</td>\n      <td>10054.0</td>\n      <td>29265.0</td>\n    </tr>\n    <tr>\n      <th>997</th>\n      <td></td>\n      <td>NaT</td>\n      <td>10454.0</td>\n      <td>-10454.0</td>\n    </tr>\n    <tr>\n      <th>998</th>\n      <td></td>\n      <td>NaT</td>\n      <td>1000.0</td>\n      <td>-1000.0</td>\n    </tr>\n    <tr>\n      <th>999</th>\n      <td></td>\n      <td>NaT</td>\n      <td>10754.0</td>\n      <td>-10754.0</td>\n    </tr>\n  </tbody>\n</table>\n<p>1000 rows × 4 columns</p>\n</div>"
     },
     "metadata": {},
     "execution_count": 24
    }
   ],
   "source": [
    "log_copy"
   ]
  },
  {
   "cell_type": "code",
   "execution_count": 25,
   "metadata": {},
   "outputs": [
    {
     "output_type": "execute_result",
     "data": {
      "text/plain": [
       "5347.0"
      ]
     },
     "metadata": {},
     "execution_count": 25
    }
   ],
   "source": [
    "def fill_net(row):\n",
    "    if row.win < 0:\n",
    "        return row.win\n",
    "    else:\n",
    "        return (row.win - row.bet)\n",
    "\n",
    "net = log_copy.apply(lambda row: fill_net(row), axis=1)\n",
    "log_copy['net'] = net\n",
    "log_copy[log_copy['net'] > 0].net.median()"
   ]
  },
  {
   "source": [
    "### Задание 4\n",
    "Как можно посчитать среднее значение для столбца bet, не учитывая при подсчете пропуски?"
   ],
   "cell_type": "markdown",
   "metadata": {}
  },
  {
   "cell_type": "code",
   "execution_count": 26,
   "metadata": {},
   "outputs": [
    {
     "output_type": "execute_result",
     "data": {
      "text/plain": [
       "3291.083"
      ]
     },
     "metadata": {},
     "execution_count": 26
    }
   ],
   "source": [
    "log_copy.bet.mean()"
   ]
  },
  {
   "cell_type": "code",
   "execution_count": 27,
   "metadata": {},
   "outputs": [
    {
     "output_type": "execute_result",
     "data": {
      "text/plain": [
       "3291.083"
      ]
     },
     "metadata": {},
     "execution_count": 27
    }
   ],
   "source": [
    "log_copy.bet.sum() / log_copy.bet.dropna().shape[0]"
   ]
  },
  {
   "cell_type": "code",
   "execution_count": 28,
   "metadata": {},
   "outputs": [
    {
     "output_type": "execute_result",
     "data": {
      "text/plain": [
       "3291.083"
      ]
     },
     "metadata": {},
     "execution_count": 28
    }
   ],
   "source": [
    "np.mean(log_copy.bet)"
   ]
  },
  {
   "cell_type": "code",
   "execution_count": 29,
   "metadata": {},
   "outputs": [
    {
     "output_type": "execute_result",
     "data": {
      "text/plain": [
       "      user_id                time      bet      win      net\n",
       "0    user_919 2019-01-01 14:06:51      0.0      0.0      0.0\n",
       "1    user_973 2019-01-01 14:51:16      0.0      0.0      0.0\n",
       "2    user_903 2019-01-01 16:31:16      0.0      0.0      0.0\n",
       "3    user_954 2019-01-01 17:17:51      0.0      0.0      0.0\n",
       "4    user_954 2019-01-01 21:31:18      0.0      0.0      0.0\n",
       "..        ...                 ...      ...      ...      ...\n",
       "995  user_984 2019-04-20 09:59:58   9754.0  -9754.0  -9754.0\n",
       "996                           NaT  10054.0  29265.0  19211.0\n",
       "997                           NaT  10454.0 -10454.0 -10454.0\n",
       "998                           NaT   1000.0  -1000.0  -1000.0\n",
       "999                           NaT  10754.0 -10754.0 -10754.0\n",
       "\n",
       "[1000 rows x 5 columns]"
      ],
      "text/html": "<div>\n<style scoped>\n    .dataframe tbody tr th:only-of-type {\n        vertical-align: middle;\n    }\n\n    .dataframe tbody tr th {\n        vertical-align: top;\n    }\n\n    .dataframe thead th {\n        text-align: right;\n    }\n</style>\n<table border=\"1\" class=\"dataframe\">\n  <thead>\n    <tr style=\"text-align: right;\">\n      <th></th>\n      <th>user_id</th>\n      <th>time</th>\n      <th>bet</th>\n      <th>win</th>\n      <th>net</th>\n    </tr>\n  </thead>\n  <tbody>\n    <tr>\n      <th>0</th>\n      <td>user_919</td>\n      <td>2019-01-01 14:06:51</td>\n      <td>0.0</td>\n      <td>0.0</td>\n      <td>0.0</td>\n    </tr>\n    <tr>\n      <th>1</th>\n      <td>user_973</td>\n      <td>2019-01-01 14:51:16</td>\n      <td>0.0</td>\n      <td>0.0</td>\n      <td>0.0</td>\n    </tr>\n    <tr>\n      <th>2</th>\n      <td>user_903</td>\n      <td>2019-01-01 16:31:16</td>\n      <td>0.0</td>\n      <td>0.0</td>\n      <td>0.0</td>\n    </tr>\n    <tr>\n      <th>3</th>\n      <td>user_954</td>\n      <td>2019-01-01 17:17:51</td>\n      <td>0.0</td>\n      <td>0.0</td>\n      <td>0.0</td>\n    </tr>\n    <tr>\n      <th>4</th>\n      <td>user_954</td>\n      <td>2019-01-01 21:31:18</td>\n      <td>0.0</td>\n      <td>0.0</td>\n      <td>0.0</td>\n    </tr>\n    <tr>\n      <th>...</th>\n      <td>...</td>\n      <td>...</td>\n      <td>...</td>\n      <td>...</td>\n      <td>...</td>\n    </tr>\n    <tr>\n      <th>995</th>\n      <td>user_984</td>\n      <td>2019-04-20 09:59:58</td>\n      <td>9754.0</td>\n      <td>-9754.0</td>\n      <td>-9754.0</td>\n    </tr>\n    <tr>\n      <th>996</th>\n      <td></td>\n      <td>NaT</td>\n      <td>10054.0</td>\n      <td>29265.0</td>\n      <td>19211.0</td>\n    </tr>\n    <tr>\n      <th>997</th>\n      <td></td>\n      <td>NaT</td>\n      <td>10454.0</td>\n      <td>-10454.0</td>\n      <td>-10454.0</td>\n    </tr>\n    <tr>\n      <th>998</th>\n      <td></td>\n      <td>NaT</td>\n      <td>1000.0</td>\n      <td>-1000.0</td>\n      <td>-1000.0</td>\n    </tr>\n    <tr>\n      <th>999</th>\n      <td></td>\n      <td>NaT</td>\n      <td>10754.0</td>\n      <td>-10754.0</td>\n      <td>-10754.0</td>\n    </tr>\n  </tbody>\n</table>\n<p>1000 rows × 5 columns</p>\n</div>"
     },
     "metadata": {},
     "execution_count": 29
    }
   ],
   "source": [
    "log_copy"
   ]
  },
  {
   "source": [
    "### Задание 1\n",
    "Используйте модифицированный датасет log.csv.\n",
    "\n",
    "При модификации датасета log.csv, пропущенные значения в столбцах bet и win замените на 0, cоздайте столбец net, хранящий сумму выигрыша с учетом ставки (для этого из столбца win поэлементно вычтите столбец bet и запишите в новый столбец).\n",
    "\n",
    "Посчитайте, какой процент посещений букмекерской конторы оборачивался ставкой. Для этого поделите количество ставок (значений больше 0) на общее количество посещений конторы. Результат округлите до одного знака после запятой."
   ],
   "cell_type": "markdown",
   "metadata": {}
  },
  {
   "cell_type": "code",
   "execution_count": 30,
   "metadata": {},
   "outputs": [
    {
     "output_type": "execute_result",
     "data": {
      "text/plain": [
       "48.5"
      ]
     },
     "metadata": {},
     "execution_count": 30
    }
   ],
   "source": [
    "log_copy[log_copy['bet'] > 0].user_id.count()/1000*100\n"
   ]
  },
  {
   "source": [
    "### Задание 2\n",
    "Используйте датасет log.csv, получившийся в результате модификации при выполнении первого задания этого блока.\n",
    "\n",
    "Посчитайте среднее значение ставки (из столбца bet) в тех случаях, когда ставка была сделана. Запишите результат, отбросив дробную часть."
   ],
   "cell_type": "markdown",
   "metadata": {}
  },
  {
   "cell_type": "code",
   "execution_count": 31,
   "metadata": {},
   "outputs": [
    {
     "output_type": "execute_result",
     "data": {
      "text/plain": [
       "6785.738144329897"
      ]
     },
     "metadata": {},
     "execution_count": 31
    }
   ],
   "source": [
    "log_copy[log_copy['bet'] > 0].bet.mean()"
   ]
  },
  {
   "source": [
    "### Задание 3\n",
    "\n",
    "Используйте датасет log.csv, получившийся в результате модификации при выполнении первого задания этого блока.\n",
    "\n",
    "Посчитайте средний выигрыш (из столбца net) в тех случаях, когда ставка была сделана. В ответ запишите полученное число с отброшенной дробной частью.\n",
    "Пояснение: выигрыш в данном случае означает изменение количества денег и может быть отрицательным. В таком случае это проигрыш.\n",
    "\n",
    "Подсказка: можно использовать mean()."
   ],
   "cell_type": "markdown",
   "metadata": {}
  },
  {
   "cell_type": "code",
   "execution_count": 32,
   "metadata": {},
   "outputs": [
    {
     "output_type": "execute_result",
     "data": {
      "text/plain": [
       "20421.892783505155"
      ]
     },
     "metadata": {},
     "execution_count": 32
    }
   ],
   "source": [
    "log_copy[log_copy['bet'] > 0].net.mean()"
   ]
  },
  {
   "source": [
    "### Задание 4\n",
    "\n",
    "Используйте датасет log.csv, получившийся в результате модификации при выполнении первого задания этого блока.\n",
    "\n",
    "Посчитайте среднее значение потерь при проигрыше (из столбца net). Результат округлите до целого, отбросив дробную часть.\n",
    "Пояснение: ответ должен быть дан в виде отрицательного числа.\n",
    "\n",
    "Подсказка: можно использовать mean()."
   ],
   "cell_type": "markdown",
   "metadata": {}
  },
  {
   "cell_type": "code",
   "execution_count": 33,
   "metadata": {},
   "outputs": [
    {
     "output_type": "execute_result",
     "data": {
      "text/plain": [
       "-3372.743515850144"
      ]
     },
     "metadata": {},
     "execution_count": 33
    }
   ],
   "source": [
    "log_copy[log_copy['net'] < 0].net.mean()"
   ]
  },
  {
   "source": [
    "### Задание 5\n",
    "\n",
    "Посчитайте, какой процент ставок заканчивается выигрышем, а какой - проигрышем. Сравните эти значения и ответьте, какое из них больше.\n",
    "\n",
    "Выберите пункт из списка ниже."
   ],
   "cell_type": "markdown",
   "metadata": {}
  },
  {
   "cell_type": "code",
   "execution_count": 34,
   "metadata": {},
   "outputs": [
    {
     "output_type": "execute_result",
     "data": {
      "text/plain": [
       "138"
      ]
     },
     "metadata": {},
     "execution_count": 34
    }
   ],
   "source": [
    "log_copy[log_copy['net'] < 0].user_id.count()\n",
    "log_copy[log_copy['net'] > 0].user_id.count()"
   ]
  },
  {
   "source": [],
   "cell_type": "markdown",
   "metadata": {}
  },
  {
   "cell_type": "code",
   "execution_count": 35,
   "metadata": {},
   "outputs": [
    {
     "output_type": "execute_result",
     "data": {
      "text/plain": [
       "      user_id                time      bet      win      net\n",
       "0    user_919 2019-01-01 14:06:51      0.0      0.0      0.0\n",
       "1    user_973 2019-01-01 14:51:16      0.0      0.0      0.0\n",
       "2    user_903 2019-01-01 16:31:16      0.0      0.0      0.0\n",
       "3    user_954 2019-01-01 17:17:51      0.0      0.0      0.0\n",
       "4    user_954 2019-01-01 21:31:18      0.0      0.0      0.0\n",
       "..        ...                 ...      ...      ...      ...\n",
       "995  user_984 2019-04-20 09:59:58   9754.0  -9754.0  -9754.0\n",
       "996                           NaT  10054.0  29265.0  19211.0\n",
       "997                           NaT  10454.0 -10454.0 -10454.0\n",
       "998                           NaT   1000.0  -1000.0  -1000.0\n",
       "999                           NaT  10754.0 -10754.0 -10754.0\n",
       "\n",
       "[1000 rows x 5 columns]"
      ],
      "text/html": "<div>\n<style scoped>\n    .dataframe tbody tr th:only-of-type {\n        vertical-align: middle;\n    }\n\n    .dataframe tbody tr th {\n        vertical-align: top;\n    }\n\n    .dataframe thead th {\n        text-align: right;\n    }\n</style>\n<table border=\"1\" class=\"dataframe\">\n  <thead>\n    <tr style=\"text-align: right;\">\n      <th></th>\n      <th>user_id</th>\n      <th>time</th>\n      <th>bet</th>\n      <th>win</th>\n      <th>net</th>\n    </tr>\n  </thead>\n  <tbody>\n    <tr>\n      <th>0</th>\n      <td>user_919</td>\n      <td>2019-01-01 14:06:51</td>\n      <td>0.0</td>\n      <td>0.0</td>\n      <td>0.0</td>\n    </tr>\n    <tr>\n      <th>1</th>\n      <td>user_973</td>\n      <td>2019-01-01 14:51:16</td>\n      <td>0.0</td>\n      <td>0.0</td>\n      <td>0.0</td>\n    </tr>\n    <tr>\n      <th>2</th>\n      <td>user_903</td>\n      <td>2019-01-01 16:31:16</td>\n      <td>0.0</td>\n      <td>0.0</td>\n      <td>0.0</td>\n    </tr>\n    <tr>\n      <th>3</th>\n      <td>user_954</td>\n      <td>2019-01-01 17:17:51</td>\n      <td>0.0</td>\n      <td>0.0</td>\n      <td>0.0</td>\n    </tr>\n    <tr>\n      <th>4</th>\n      <td>user_954</td>\n      <td>2019-01-01 21:31:18</td>\n      <td>0.0</td>\n      <td>0.0</td>\n      <td>0.0</td>\n    </tr>\n    <tr>\n      <th>...</th>\n      <td>...</td>\n      <td>...</td>\n      <td>...</td>\n      <td>...</td>\n      <td>...</td>\n    </tr>\n    <tr>\n      <th>995</th>\n      <td>user_984</td>\n      <td>2019-04-20 09:59:58</td>\n      <td>9754.0</td>\n      <td>-9754.0</td>\n      <td>-9754.0</td>\n    </tr>\n    <tr>\n      <th>996</th>\n      <td></td>\n      <td>NaT</td>\n      <td>10054.0</td>\n      <td>29265.0</td>\n      <td>19211.0</td>\n    </tr>\n    <tr>\n      <th>997</th>\n      <td></td>\n      <td>NaT</td>\n      <td>10454.0</td>\n      <td>-10454.0</td>\n      <td>-10454.0</td>\n    </tr>\n    <tr>\n      <th>998</th>\n      <td></td>\n      <td>NaT</td>\n      <td>1000.0</td>\n      <td>-1000.0</td>\n      <td>-1000.0</td>\n    </tr>\n    <tr>\n      <th>999</th>\n      <td></td>\n      <td>NaT</td>\n      <td>10754.0</td>\n      <td>-10754.0</td>\n      <td>-10754.0</td>\n    </tr>\n  </tbody>\n</table>\n<p>1000 rows × 5 columns</p>\n</div>"
     },
     "metadata": {},
     "execution_count": 35
    }
   ],
   "source": [
    "log_copy"
   ]
  },
  {
   "cell_type": "code",
   "execution_count": 36,
   "metadata": {},
   "outputs": [],
   "source": [
    "users_copy = users.copy()"
   ]
  },
  {
   "cell_type": "code",
   "execution_count": 37,
   "metadata": {},
   "outputs": [],
   "source": [
    "users_copy.user_id = users_copy.user_id.apply(lambda x: x.lower())\n",
    "log_copy = log_copy[log_copy.user_id != '#error']"
   ]
  },
  {
   "cell_type": "code",
   "execution_count": 43,
   "metadata": {},
   "outputs": [
    {
     "output_type": "execute_result",
     "data": {
      "text/plain": [
       "user_966    18\n",
       "user_972    16\n",
       "user_983    15\n",
       "user_937    15\n",
       "            15\n",
       "            ..\n",
       "user_945     5\n",
       "user_909     5\n",
       "user_915     5\n",
       "user_957     5\n",
       "user_921     4\n",
       "Name: user_id, Length: 102, dtype: int64"
      ]
     },
     "metadata": {},
     "execution_count": 43
    }
   ],
   "source": []
  },
  {
   "source": [
    "Объединить датафреймы"
   ],
   "cell_type": "markdown",
   "metadata": {}
  },
  {
   "cell_type": "code",
   "execution_count": 38,
   "metadata": {},
   "outputs": [
    {
     "output_type": "execute_result",
     "data": {
      "text/plain": [
       "      user_id                email      geo                time    bet  \\\n",
       "0    user_943  Accumanst@gmail.com   Ижевск 2019-01-06 21:06:57    0.0   \n",
       "1    user_943  Accumanst@gmail.com   Ижевск 2019-01-10 12:16:22  100.0   \n",
       "2    user_943  Accumanst@gmail.com   Ижевск 2019-01-27 01:18:47  100.0   \n",
       "3    user_943  Accumanst@gmail.com   Ижевск 2019-02-10 11:09:24  100.0   \n",
       "4    user_943  Accumanst@gmail.com   Ижевск 2019-02-12 15:09:38  300.0   \n",
       "..        ...                  ...      ...                 ...    ...   \n",
       "970  user_965  Visuareda@yahoo.com  Воронеж 2019-04-20 12:55:41  800.0   \n",
       "971  user_921         Aavast@ya.ru   Ижевск 2019-01-07 01:05:59    0.0   \n",
       "972  user_921         Aavast@ya.ru   Ижевск 2019-02-05 14:08:57    0.0   \n",
       "973  user_921         Aavast@ya.ru   Ижевск 2019-02-09 23:20:21  400.0   \n",
       "974  user_921         Aavast@ya.ru   Ижевск 2019-02-10 17:53:37  900.0   \n",
       "\n",
       "        win     net  \n",
       "0       0.0     0.0  \n",
       "1    -100.0  -100.0  \n",
       "2    -100.0  -100.0  \n",
       "3    5456.0  5356.0  \n",
       "4    5245.0  4945.0  \n",
       "..      ...     ...  \n",
       "970  6927.0  6127.0  \n",
       "971     0.0     0.0  \n",
       "972     0.0     0.0  \n",
       "973  6067.0  5667.0  \n",
       "974  -900.0  -900.0  \n",
       "\n",
       "[975 rows x 7 columns]"
      ],
      "text/html": "<div>\n<style scoped>\n    .dataframe tbody tr th:only-of-type {\n        vertical-align: middle;\n    }\n\n    .dataframe tbody tr th {\n        vertical-align: top;\n    }\n\n    .dataframe thead th {\n        text-align: right;\n    }\n</style>\n<table border=\"1\" class=\"dataframe\">\n  <thead>\n    <tr style=\"text-align: right;\">\n      <th></th>\n      <th>user_id</th>\n      <th>email</th>\n      <th>geo</th>\n      <th>time</th>\n      <th>bet</th>\n      <th>win</th>\n      <th>net</th>\n    </tr>\n  </thead>\n  <tbody>\n    <tr>\n      <th>0</th>\n      <td>user_943</td>\n      <td>Accumanst@gmail.com</td>\n      <td>Ижевск</td>\n      <td>2019-01-06 21:06:57</td>\n      <td>0.0</td>\n      <td>0.0</td>\n      <td>0.0</td>\n    </tr>\n    <tr>\n      <th>1</th>\n      <td>user_943</td>\n      <td>Accumanst@gmail.com</td>\n      <td>Ижевск</td>\n      <td>2019-01-10 12:16:22</td>\n      <td>100.0</td>\n      <td>-100.0</td>\n      <td>-100.0</td>\n    </tr>\n    <tr>\n      <th>2</th>\n      <td>user_943</td>\n      <td>Accumanst@gmail.com</td>\n      <td>Ижевск</td>\n      <td>2019-01-27 01:18:47</td>\n      <td>100.0</td>\n      <td>-100.0</td>\n      <td>-100.0</td>\n    </tr>\n    <tr>\n      <th>3</th>\n      <td>user_943</td>\n      <td>Accumanst@gmail.com</td>\n      <td>Ижевск</td>\n      <td>2019-02-10 11:09:24</td>\n      <td>100.0</td>\n      <td>5456.0</td>\n      <td>5356.0</td>\n    </tr>\n    <tr>\n      <th>4</th>\n      <td>user_943</td>\n      <td>Accumanst@gmail.com</td>\n      <td>Ижевск</td>\n      <td>2019-02-12 15:09:38</td>\n      <td>300.0</td>\n      <td>5245.0</td>\n      <td>4945.0</td>\n    </tr>\n    <tr>\n      <th>...</th>\n      <td>...</td>\n      <td>...</td>\n      <td>...</td>\n      <td>...</td>\n      <td>...</td>\n      <td>...</td>\n      <td>...</td>\n    </tr>\n    <tr>\n      <th>970</th>\n      <td>user_965</td>\n      <td>Visuareda@yahoo.com</td>\n      <td>Воронеж</td>\n      <td>2019-04-20 12:55:41</td>\n      <td>800.0</td>\n      <td>6927.0</td>\n      <td>6127.0</td>\n    </tr>\n    <tr>\n      <th>971</th>\n      <td>user_921</td>\n      <td>Aavast@ya.ru</td>\n      <td>Ижевск</td>\n      <td>2019-01-07 01:05:59</td>\n      <td>0.0</td>\n      <td>0.0</td>\n      <td>0.0</td>\n    </tr>\n    <tr>\n      <th>972</th>\n      <td>user_921</td>\n      <td>Aavast@ya.ru</td>\n      <td>Ижевск</td>\n      <td>2019-02-05 14:08:57</td>\n      <td>0.0</td>\n      <td>0.0</td>\n      <td>0.0</td>\n    </tr>\n    <tr>\n      <th>973</th>\n      <td>user_921</td>\n      <td>Aavast@ya.ru</td>\n      <td>Ижевск</td>\n      <td>2019-02-09 23:20:21</td>\n      <td>400.0</td>\n      <td>6067.0</td>\n      <td>5667.0</td>\n    </tr>\n    <tr>\n      <th>974</th>\n      <td>user_921</td>\n      <td>Aavast@ya.ru</td>\n      <td>Ижевск</td>\n      <td>2019-02-10 17:53:37</td>\n      <td>900.0</td>\n      <td>-900.0</td>\n      <td>-900.0</td>\n    </tr>\n  </tbody>\n</table>\n<p>975 rows × 7 columns</p>\n</div>"
     },
     "metadata": {},
     "execution_count": 38
    }
   ],
   "source": [
    "merged_df = pd.merge(users_copy, log_copy, on='user_id') \n",
    "merged_df"
   ]
  },
  {
   "cell_type": "code",
   "execution_count": 39,
   "metadata": {},
   "outputs": [
    {
     "output_type": "execute_result",
     "data": {
      "text/plain": [
       "1986.0"
      ]
     },
     "metadata": {},
     "execution_count": 39
    }
   ],
   "source": [
    "merged_df.groupby('user_id').net.sum().median()  "
   ]
  },
  {
   "cell_type": "code",
   "execution_count": 40,
   "metadata": {},
   "outputs": [
    {
     "output_type": "execute_result",
     "data": {
      "text/plain": [
       "user_id    bet    \n",
       "user_1000  0.0        8\n",
       "           100.0      1\n",
       "           300.0      1\n",
       "           400.0      1\n",
       "           800.0      1\n",
       "                     ..\n",
       "user_998   10654.0    1\n",
       "user_999   0.0        5\n",
       "           100.0      1\n",
       "           700.0      1\n",
       "           800.0      1\n",
       "Name: bet, Length: 506, dtype: int64"
      ]
     },
     "metadata": {},
     "execution_count": 40
    }
   ],
   "source": [
    "merged_df.groupby(['user_id','bet']).bet.count()"
   ]
  },
  {
   "cell_type": "code",
   "execution_count": 41,
   "metadata": {},
   "outputs": [
    {
     "output_type": "execute_result",
     "data": {
      "text/plain": [
       "12"
      ]
     },
     "metadata": {},
     "execution_count": 41
    }
   ],
   "source": [
    "merged_df.groupby(['user_id','bet']).bet.count().loc['user_1000'].sum()"
   ]
  },
  {
   "cell_type": "code",
   "execution_count": 42,
   "metadata": {},
   "outputs": [
    {
     "output_type": "execute_result",
     "data": {
      "text/plain": [
       "8"
      ]
     },
     "metadata": {},
     "execution_count": 42
    }
   ],
   "source": [
    "merged_df.groupby(['user_id','bet']).bet.count().loc['user_1000'].loc[0]"
   ]
  },
  {
   "cell_type": "code",
   "execution_count": 43,
   "metadata": {},
   "outputs": [
    {
     "output_type": "execute_result",
     "data": {
      "text/plain": [
       "4.7"
      ]
     },
     "metadata": {},
     "execution_count": 43
    }
   ],
   "source": [
    "users_zero_bets = {'users': [], 'num_zero_bet':[]}\n",
    "# пробегаем по списку посетителей\n",
    "for i in merged_df.groupby('user_id').user_id.count().index:\n",
    "    #  если разность суммы ставок и нулевых ставок этого человека\n",
    "    #  не меньше 1 значит это наш клиент\n",
    "    if merged_df.groupby(['user_id','bet']).bet.count().loc[i].sum() - merged_df.groupby(['user_id','bet']).bet.count().loc[i].loc[0] >= 1:\n",
    "    # создаем словарь\n",
    "\n",
    "        users_zero_bets['users'].append(i)\n",
    "        users_zero_bets['num_zero_bet'].append(merged_df.groupby(['user_id','bet']).bet.count().loc[i].sum() - merged_df.groupby(['user_id','bet']).bet.count().loc[i].loc[0])\n",
    "\n",
    "users_zero_bets_df = pd.DataFrame(users_zero_bets)\n",
    "users_zero_bets_df.num_zero_bet.mean()"
   ]
  },
  {
   "cell_type": "code",
   "execution_count": 44,
   "metadata": {},
   "outputs": [],
   "source": [
    "# ! нужно разобраться !!!!!\n",
    "# создаем два датафрейма для подсчета случаев нулевой ставки\n",
    "group = merged_df[merged_df.bet==0].groupby('user_id').bet.count() \n",
    "group_not_null = merged_df[merged_df.bet>0].groupby('user_id').bet.count()\n",
    "# и объединяем по user_id\n",
    "joined=pd.merge(group, group_not_null, on=['user_id'])\n",
    "# # Оставим только те строки, в которых у посетителя была хотя бы одна ставка\n",
    "# joined = joined[joined['bet_y']>0]\n",
    "# # И посчитаем среднее количество приходов без ставки\n",
    "# joined['bet_x'].sum()/len(joined)"
   ]
  },
  {
   "cell_type": "code",
   "execution_count": 45,
   "metadata": {},
   "outputs": [
    {
     "output_type": "execute_result",
     "data": {
      "text/plain": [
       "      user_id                email      geo                time    bet  \\\n",
       "0    user_943  Accumanst@gmail.com   Ижевск 2019-01-06 21:06:57    0.0   \n",
       "1    user_943  Accumanst@gmail.com   Ижевск 2019-01-10 12:16:22  100.0   \n",
       "2    user_943  Accumanst@gmail.com   Ижевск 2019-01-27 01:18:47  100.0   \n",
       "3    user_943  Accumanst@gmail.com   Ижевск 2019-02-10 11:09:24  100.0   \n",
       "4    user_943  Accumanst@gmail.com   Ижевск 2019-02-12 15:09:38  300.0   \n",
       "..        ...                  ...      ...                 ...    ...   \n",
       "970  user_965  Visuareda@yahoo.com  Воронеж 2019-04-20 12:55:41  800.0   \n",
       "971  user_921         Aavast@ya.ru   Ижевск 2019-01-07 01:05:59    0.0   \n",
       "972  user_921         Aavast@ya.ru   Ижевск 2019-02-05 14:08:57    0.0   \n",
       "973  user_921         Aavast@ya.ru   Ижевск 2019-02-09 23:20:21  400.0   \n",
       "974  user_921         Aavast@ya.ru   Ижевск 2019-02-10 17:53:37  900.0   \n",
       "\n",
       "        win     net  \n",
       "0       0.0     0.0  \n",
       "1    -100.0  -100.0  \n",
       "2    -100.0  -100.0  \n",
       "3    5456.0  5356.0  \n",
       "4    5245.0  4945.0  \n",
       "..      ...     ...  \n",
       "970  6927.0  6127.0  \n",
       "971     0.0     0.0  \n",
       "972     0.0     0.0  \n",
       "973  6067.0  5667.0  \n",
       "974  -900.0  -900.0  \n",
       "\n",
       "[975 rows x 7 columns]"
      ],
      "text/html": "<div>\n<style scoped>\n    .dataframe tbody tr th:only-of-type {\n        vertical-align: middle;\n    }\n\n    .dataframe tbody tr th {\n        vertical-align: top;\n    }\n\n    .dataframe thead th {\n        text-align: right;\n    }\n</style>\n<table border=\"1\" class=\"dataframe\">\n  <thead>\n    <tr style=\"text-align: right;\">\n      <th></th>\n      <th>user_id</th>\n      <th>email</th>\n      <th>geo</th>\n      <th>time</th>\n      <th>bet</th>\n      <th>win</th>\n      <th>net</th>\n    </tr>\n  </thead>\n  <tbody>\n    <tr>\n      <th>0</th>\n      <td>user_943</td>\n      <td>Accumanst@gmail.com</td>\n      <td>Ижевск</td>\n      <td>2019-01-06 21:06:57</td>\n      <td>0.0</td>\n      <td>0.0</td>\n      <td>0.0</td>\n    </tr>\n    <tr>\n      <th>1</th>\n      <td>user_943</td>\n      <td>Accumanst@gmail.com</td>\n      <td>Ижевск</td>\n      <td>2019-01-10 12:16:22</td>\n      <td>100.0</td>\n      <td>-100.0</td>\n      <td>-100.0</td>\n    </tr>\n    <tr>\n      <th>2</th>\n      <td>user_943</td>\n      <td>Accumanst@gmail.com</td>\n      <td>Ижевск</td>\n      <td>2019-01-27 01:18:47</td>\n      <td>100.0</td>\n      <td>-100.0</td>\n      <td>-100.0</td>\n    </tr>\n    <tr>\n      <th>3</th>\n      <td>user_943</td>\n      <td>Accumanst@gmail.com</td>\n      <td>Ижевск</td>\n      <td>2019-02-10 11:09:24</td>\n      <td>100.0</td>\n      <td>5456.0</td>\n      <td>5356.0</td>\n    </tr>\n    <tr>\n      <th>4</th>\n      <td>user_943</td>\n      <td>Accumanst@gmail.com</td>\n      <td>Ижевск</td>\n      <td>2019-02-12 15:09:38</td>\n      <td>300.0</td>\n      <td>5245.0</td>\n      <td>4945.0</td>\n    </tr>\n    <tr>\n      <th>...</th>\n      <td>...</td>\n      <td>...</td>\n      <td>...</td>\n      <td>...</td>\n      <td>...</td>\n      <td>...</td>\n      <td>...</td>\n    </tr>\n    <tr>\n      <th>970</th>\n      <td>user_965</td>\n      <td>Visuareda@yahoo.com</td>\n      <td>Воронеж</td>\n      <td>2019-04-20 12:55:41</td>\n      <td>800.0</td>\n      <td>6927.0</td>\n      <td>6127.0</td>\n    </tr>\n    <tr>\n      <th>971</th>\n      <td>user_921</td>\n      <td>Aavast@ya.ru</td>\n      <td>Ижевск</td>\n      <td>2019-01-07 01:05:59</td>\n      <td>0.0</td>\n      <td>0.0</td>\n      <td>0.0</td>\n    </tr>\n    <tr>\n      <th>972</th>\n      <td>user_921</td>\n      <td>Aavast@ya.ru</td>\n      <td>Ижевск</td>\n      <td>2019-02-05 14:08:57</td>\n      <td>0.0</td>\n      <td>0.0</td>\n      <td>0.0</td>\n    </tr>\n    <tr>\n      <th>973</th>\n      <td>user_921</td>\n      <td>Aavast@ya.ru</td>\n      <td>Ижевск</td>\n      <td>2019-02-09 23:20:21</td>\n      <td>400.0</td>\n      <td>6067.0</td>\n      <td>5667.0</td>\n    </tr>\n    <tr>\n      <th>974</th>\n      <td>user_921</td>\n      <td>Aavast@ya.ru</td>\n      <td>Ижевск</td>\n      <td>2019-02-10 17:53:37</td>\n      <td>900.0</td>\n      <td>-900.0</td>\n      <td>-900.0</td>\n    </tr>\n  </tbody>\n</table>\n<p>975 rows × 7 columns</p>\n</div>"
     },
     "metadata": {},
     "execution_count": 45
    }
   ],
   "source": [
    "merged_df"
   ]
  },
  {
   "cell_type": "code",
   "execution_count": 57,
   "metadata": {},
   "outputs": [
    {
     "output_type": "execute_result",
     "data": {
      "text/plain": [
       "Timestamp('2019-01-06 21:06:57')"
      ]
     },
     "metadata": {},
     "execution_count": 57
    }
   ],
   "source": [
    "merged_df.iloc[0]['time']"
   ]
  },
  {
   "cell_type": "code",
   "execution_count": 73,
   "metadata": {
    "tags": []
   },
   "outputs": [],
   "source": [
    "dict_ = {'user_id':[],'first_zero':[], 'first_bet':[]}\n",
    "for _, group in merged_df.groupby('user_id'):\n",
    "    ### Цикл для каждой группы нужно определить\n",
    "    if group[group['bet'] == 0].sort_values(by='time').iloc[0].time < group[group['bet'] > 0].sort_values(by='time').iloc[0].time:\n",
    "        dict_['user_id'].append(group.user_id.iloc[0])\n",
    "    \n",
    "        dict_['first_zero'].append(group[group['bet'] == 0].sort_values(by='time').iloc[0].time)\n",
    "        dict_['first_bet'].append(group[group['bet'] > 0].sort_values(by='time').iloc[0].time)\n",
    "\n",
    "new_df = pd.DataFrame(dict_)\n",
    "new_df['days'] = new_df['first_bet'] - new_df['first_zero']\n",
    "   "
   ]
  },
  {
   "cell_type": "code",
   "execution_count": 76,
   "metadata": {},
   "outputs": [
    {
     "output_type": "execute_result",
     "data": {
      "text/plain": [
       "0     7 days 01:26:03\n",
       "1    38 days 05:59:22\n",
       "2    66 days 05:05:21\n",
       "3    40 days 13:40:05\n",
       "4    37 days 18:34:44\n",
       "           ...       \n",
       "90   57 days 22:09:46\n",
       "91   50 days 05:33:05\n",
       "92   58 days 14:10:10\n",
       "93   22 days 06:08:55\n",
       "94   67 days 12:42:55\n",
       "Name: days, Length: 95, dtype: timedelta64[ns]"
      ]
     },
     "metadata": {},
     "execution_count": 76
    }
   ],
   "source": [
    "new_df.days"
   ]
  },
  {
   "cell_type": "code",
   "execution_count": 84,
   "metadata": {},
   "outputs": [
    {
     "output_type": "execute_result",
     "data": {
      "text/plain": [
       "geo\n",
       "Москва             11379755.0\n",
       "Воронеж              107514.0\n",
       "Санкт-Петербург      105345.0\n",
       "Казань                75352.0\n",
       "Ярославль             46845.0\n",
       "Ижевск                34479.0\n",
       "Хабаровск             33451.0\n",
       "Екатеринбург          28582.0\n",
       "Красноярск            27397.0\n",
       "Арзангелтск           25813.0\n",
       "Пермь                 19518.0\n",
       "Краснодар              3248.0\n",
       "Ставрополь              487.0\n",
       "Тюмень                 -499.0\n",
       "Name: win, dtype: float64"
      ]
     },
     "metadata": {},
     "execution_count": 84
    }
   ],
   "source": [
    "merged_df.groupby('geo').win.sum().sort_values(ascending =False)"
   ]
  },
  {
   "cell_type": "code",
   "execution_count": 93,
   "metadata": {},
   "outputs": [
    {
     "output_type": "execute_result",
     "data": {
      "text/plain": [
       "geo\n",
       "Москва             39793.327869\n",
       "Ставрополь          1582.500000\n",
       "Красноярск          1428.178571\n",
       "Воронеж             1324.840909\n",
       "Пермь               1135.818182\n",
       "Ижевск              1079.836066\n",
       "Краснодар            839.813953\n",
       "Хабаровск            757.700000\n",
       "Ярославль            750.000000\n",
       "Казань               714.575758\n",
       "Арзангелтск          663.708333\n",
       "Санкт-Петербург      654.521739\n",
       "Екатеринбург         228.571429\n",
       "Тюмень               175.000000\n",
       "Name: bet, dtype: float64"
      ]
     },
     "metadata": {},
     "execution_count": 93
    }
   ],
   "source": [
    "merged_df.groupby('geo').bet.mean().sort_values(ascending =False)"
   ]
  },
  {
   "cell_type": "code",
   "execution_count": 91,
   "metadata": {},
   "outputs": [
    {
     "output_type": "execute_result",
     "data": {
      "text/plain": [
       "175.0"
      ]
     },
     "metadata": {},
     "execution_count": 91
    }
   ],
   "source": [
    "merged_df.groupby('geo').bet.mean().min()"
   ]
  },
  {
   "cell_type": "code",
   "execution_count": null,
   "metadata": {},
   "outputs": [],
   "source": []
  }
 ]
}